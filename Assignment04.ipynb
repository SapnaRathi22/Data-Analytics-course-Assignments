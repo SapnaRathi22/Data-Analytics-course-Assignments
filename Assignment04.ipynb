{
 "cells": [
  {
   "cell_type": "markdown",
   "id": "8d43db60-daf0-41e0-b6b6-90a5865f48b1",
   "metadata": {},
   "source": [
    "###### Q1. my_tuple = ( (1, 2, 3), [4, 5, 6], (&#39;apple&#39;, &#39;banana&#39;, &#39;cherry&#39;), [7, 8, 9] )\n",
    "###### • Print all elements from my_tuple on a new line (using for loop)\n",
    "###### • Create a new tuple by concatenating the first and last elements of my_tuple"
   ]
  },
  {
   "cell_type": "code",
   "execution_count": 3,
   "id": "667f5c11-1034-4ddb-8d0d-110ad6284fd9",
   "metadata": {},
   "outputs": [
    {
     "name": "stdout",
     "output_type": "stream",
     "text": [
      "(1, 2, 3)\n",
      "[4, 5, 6]\n",
      "('apple', 'banana', 'cherry')\n",
      "[7, 8, 9]\n"
     ]
    }
   ],
   "source": [
    "# Print all elements from my_tuple on a new line (using for loop)\n",
    "my_tuple = ( (1, 2, 3), [4, 5, 6], (\"apple\", \"banana\", \"cherry\"), [7, 8, 9] )\n",
    "for x in my_tuple:\n",
    "    print(x)"
   ]
  },
  {
   "cell_type": "code",
   "execution_count": 57,
   "id": "2683b4e0-9108-490b-b5a3-c09f39c2d085",
   "metadata": {},
   "outputs": [
    {
     "name": "stdout",
     "output_type": "stream",
     "text": [
      "(1, 2, 3, 7, 8, 9)\n"
     ]
    }
   ],
   "source": [
    "# Create a new tuple by concatenating the first and last elements of my_tuple\n",
    "my_tuple = ( (1, 2, 3), [4, 5, 6], (\"apple\", \"banana\", \"cherry\"), [7, 8, 9] )\n",
    "new_tuple = my_tuple[0] + tuple(my_tuple[-1])\n",
    "print(new_tuple)"
   ]
  },
  {
   "cell_type": "markdown",
   "id": "31398240-8f05-4404-8336-0be11ae0a860",
   "metadata": {},
   "source": [
    "###### Q2. inventory = { &quot;The Great Gatsby&quot;: {&quot;price&quot;: 10.99, &quot;quantity&quot;: 5}, &quot;Rich dad poor dad&quot;: {&quot;price&quot;:\n",
    "###### 8.99, &quot;quantity&quot;: 8}, &quot;Harry Potter&quot;: {&quot;price&quot;: 12.50, &quot;quantity&quot;: 2}, }\n",
    "###### • Add a new book in inventory using method and get all book titles using method\n",
    "###### • Remove a book if it&#39;s out of stock"
   ]
  },
  {
   "cell_type": "code",
   "execution_count": 50,
   "id": "5581a6d0-07b6-4efb-86d6-579f23b4a9d6",
   "metadata": {},
   "outputs": [
    {
     "name": "stdout",
     "output_type": "stream",
     "text": [
      "list of books in inventory after adding a new book:  {'The Great Gatsby': {'price': 14.99, 'quantity': 1}, 'Rich dad poor dad': {'price': 8.99, 'quantity': 8}, 'Harry Potter': {'price': 12.5, 'quantity': 0}}\n",
      "Titles of the books availabe in the inventory: ['The Great Gatsby', 'Rich dad poor dad', 'Harry Potter']\n"
     ]
    }
   ],
   "source": [
    "inventory ={\n",
    "    \"The Great Gatsby\": {\"price\": 10.99, \"quantity\": 5}, \"Rich dad poor dad\": {\"price\":\n",
    "8.99, \"quantity\": 8}, \"Harry Potter\": {\"price\": 12.50, \"quantity\": 0},\n",
    "}\n",
    "# Add a new book in inventory using method and get all book titles using method\n",
    "inventory[\"The Great Gatsby\"]= {\"price\": 14.99, \"quantity\": 1}\n",
    "print(\"list of books in inventory after adding a new book: \", inventory)\n",
    "\n",
    "all_keys = list(inventory.keys())\n",
    "print(\"Titles of the books availabe in the inventory:\", all_keys)"
   ]
  },
  {
   "cell_type": "code",
   "execution_count": 51,
   "id": "ec48b060-54b5-4926-8fdb-f99c68fccb0b",
   "metadata": {},
   "outputs": [
    {
     "name": "stdout",
     "output_type": "stream",
     "text": [
      "{'price': 14.99, 'quantity': 1} is not out of stock\n",
      "{'price': 8.99, 'quantity': 8} is not out of stock\n",
      "{'price': 12.5, 'quantity': 0} Book is deleted\n"
     ]
    }
   ],
   "source": [
    "#Remove a book if it's out of stock\n",
    "for book in list(inventory.keys()):\n",
    "    if inventory[book][\"quantity\"] == 0:\n",
    "            print(inventory[book], \"Book is deleted\")\n",
    "            del inventory[book]\n",
    "    else:\n",
    "        print(inventory[book], \"is not out of stock\")"
   ]
  },
  {
   "cell_type": "markdown",
   "id": "c9e9b479-f06f-4540-8528-a15ab582a421",
   "metadata": {},
   "source": [
    "###### Q3. An ecommerce store stores information about its products in a nested dictionary. The outer\n",
    "######  dictionary uses product IDs as keys, and the inner dictionary stores product details like name,\n",
    "######  category, price, and stock quantity.\n",
    "######  products = { 101: {&quot;name&quot;: &quot;Laptop&quot;, &quot;category&quot;: &quot;Electronics&quot;, &quot;price&quot;: 1200, &quot;stock&quot;: 50}, 102:\n",
    "######  {&quot;name&quot;: &quot;Shirt&quot;, &quot;category&quot;: &quot;Apparel&quot;, &quot;price&quot;: 25, &quot;stock&quot;: 200}, 103: {&quot;name&quot;: &quot;Coffee Maker&quot;,\n",
    "######  &quot;category&quot;: &quot;Home Appliances&quot;, &quot;price&quot;: 80, &quot;stock&quot;: 30} }\n",
    "######  • Increase the stock of the &quot;Shirt&quot; product (add 50 more units)\n",
    "######  • Add a new product (e.g., &quot;Smartphone&quot;)"
   ]
  },
  {
   "cell_type": "code",
   "execution_count": 60,
   "id": "647722cc-4e1f-4caf-b096-d830b15a558c",
   "metadata": {},
   "outputs": [
    {
     "name": "stdout",
     "output_type": "stream",
     "text": [
      "{101: {'name': 'Laptop', 'category': 'Electronics', 'price': 1200, 'stock': 50}, 102: {'name': 'Shirt', 'category': 'Apparel', 'price': 25, 'stock': 250}, 103: {'name': 'Coffee Maker', 'category': 'Home Appliances', 'price': 80, 'stock': 30}}\n",
      "list of products in products's dict  after adding a new product:  {101: {'name': 'Laptop', 'category': 'Electronics', 'price': 1200, 'stock': 50}, 102: {'name': 'Shirt', 'category': 'Apparel', 'price': 25, 'stock': 250}, 103: {'name': 'Coffee Maker', 'category': 'Home Appliances', 'price': 80, 'stock': 30}, '104': {'name': 'Smarphones', 'category': 'Electornics', 'price': 15000, 'stock': 20}}\n"
     ]
    }
   ],
   "source": [
    "products = { 101: {\"name\": \"Laptop\", \"category\": \"Electronics\", \"price\": 1200, \"stock\": 50}, 102:\n",
    "{\"name\": \"Shirt\", \"category\": \"Apparel\", \"price\": 25, \"stock\": 200}, 103: {\"name\": \"Coffee Maker\",\n",
    "\"category\": \"Home Appliances\", \"price\": 80, \"stock\": 30} }\n",
    "# print(products)\n",
    "#Increase the stock of the \"Shirt\" product (add 50 more units)\n",
    "for ids in list(products.keys()):\n",
    "    if products[ids][\"name\"] == 'Shirt':\n",
    "        shirt_stock = products[ids][\"stock\"] \n",
    "        products[ids][\"stock\"] = shirt_stock+50\n",
    "print(products)\n",
    "\n",
    "# Add a new product (e.g., \"Smartphone\")\n",
    "products[\"104\"]= {\"name\": \"Smarphones\", \"category\": \"Electornics\", \"price\": 15000, \"stock\": 20}\n",
    "print(\"list of products in products's dict  after adding a new product: \", products)"
   ]
  },
  {
   "cell_type": "markdown",
   "id": "397b62ff-0e55-4273-8158-227261aa828f",
   "metadata": {},
   "source": [
    "###### Q4. You are given a list that contains some duplicate items. Remove the duplicates by converting the\n",
    "list to a set.\n",
    "###### shopping_list = [&quot;apple&quot;, &quot;banana&quot;, &quot;apple&quot;, &quot;orange&quot;, &quot;banana&quot;, &quot;grape&quot;]"
   ]
  },
  {
   "cell_type": "code",
   "execution_count": 63,
   "id": "f9343b7c-c074-4c98-bfd0-625c2d1f0558",
   "metadata": {
    "scrolled": true
   },
   "outputs": [
    {
     "name": "stdout",
     "output_type": "stream",
     "text": [
      "{'apple', 'grape', 'banana', 'orange'}\n"
     ]
    }
   ],
   "source": [
    "shopping_list = [\"apple\", \"banana\", \"apple\", \"orange\", \"banana\", \"grape\"]\n",
    "new_set = set(shopping_list)\n",
    "print(new_set)"
   ]
  },
  {
   "cell_type": "markdown",
   "id": "c3094c8c-67bf-40c7-8d84-36a704da5062",
   "metadata": {},
   "source": [
    "###### Q5. You are managing a list of students enrolled in two different courses. You need to perform\n",
    "###### various set operations to understand the student enrollment. Task: Create two sets: one for students\n",
    "###### in &quot;Course A&quot; and one for students in &quot;Course B&quot;. Find the students who are in &quot;Course A&quot; but not in\n",
    "###### &quot;Course B&quot; (difference). Find students who are only in one of the two courses (symmetric\n",
    "###### difference). course_a = {&quot;John&quot;, &quot;Alice&quot;, &quot;Bob&quot;, &quot;David&quot;} course_b = {&quot;Alice&quot;, &quot;Eve&quot;, &quot;Charlie&quot;,\n",
    "###### &quot;David&quot;}\n",
    "###### • Find students who are in Course A but not in Course B (difference)\n",
    "###### • Find students who are only in one of the two courses (symmetric difference)"
   ]
  },
  {
   "cell_type": "code",
   "execution_count": 5,
   "id": "8136c781-4d50-4ba7-b033-a0ded72d36c5",
   "metadata": {},
   "outputs": [
    {
     "name": "stdout",
     "output_type": "stream",
     "text": [
      "students who are in Course A but not in Course B  {'Bob', 'John'}\n",
      "students who are only in one of the two courses (symmetric difference)  {'Bob', 'Eve', 'Charlie', 'John'}\n"
     ]
    }
   ],
   "source": [
    "course_a = {\"John\", \"Alice\", \"Bob\", \"David\"} \n",
    "course_b = {\"Alice\", \"Eve\", \"Charlie\",\"David\"}\n",
    "\n",
    "print (\"students who are in Course A but not in Course B \", course_a.difference(course_b))\n",
    "print (\"students who are only in one of the two courses (symmetric difference) \", course_a.symmetric_difference(course_b))\n"
   ]
  },
  {
   "cell_type": "markdown",
   "id": "726ff0e1-332a-4cdd-b568-9608009364f8",
   "metadata": {},
   "source": [
    "###### Q6. Write a Python program that calculates the sum of all even numbers between 1 and 50\n",
    "###### (inclusive) using a for loop.\n",
    "###### Hint\n",
    "###### 1. Initialize a variable to hold the sum (e.g., sum_of_evens).\n",
    "###### 2. Use a for loop to iterate through all numbers from 1 to 50.\n",
    "###### 3. Inside the loop, check if the number is even.\n",
    "###### 4. If the number is even, add it to sum_of_evens.\n",
    "###### 5. After the loop finishes, print the total sum of all even numbers between 1 and 50. "
   ]
  },
  {
   "cell_type": "code",
   "execution_count": 20,
   "id": "f0445d25-b935-458e-b88c-63e056acc2fc",
   "metadata": {},
   "outputs": [
    {
     "name": "stdout",
     "output_type": "stream",
     "text": [
      "total sum of all even numbers between 1 and 50. 650\n"
     ]
    }
   ],
   "source": [
    "sum_even= 0\n",
    "for x in range(1, 51):\n",
    "    if x %2 == 0:\n",
    "        sum_even= sum_even+x\n",
    "print(\"total sum of all even numbers between 1 and 50.\", sum_even) "
   ]
  },
  {
   "cell_type": "markdown",
   "id": "77af34b4-8690-4db7-9d0f-052d315c1979",
   "metadata": {},
   "source": [
    "###### Q7. Write a Python program that prints the multiplication table for a given number (between 1 and\n",
    "###### 10) using a for loop.\n",
    "\n",
    "###### Hint:\n",
    "###### 1. Ask the user for a number between 1 and 10 .\n",
    "###### 2. Use a for loop to iterate through the numbers from 1 to 10.\n",
    "###### 3. For each iteration, calculate the product of the given number and the current number in the\n",
    "###### loop.\n",
    "###### 4. Print the result in a readable format (e.g., 5 x 1 = 5).\n",
    "###### 5. Ensure the program works correctly for any number between 1 and 10."
   ]
  },
  {
   "cell_type": "code",
   "execution_count": 32,
   "id": "19651d4b-0ff3-416f-a16b-983997d2ec94",
   "metadata": {},
   "outputs": [
    {
     "name": "stdin",
     "output_type": "stream",
     "text": [
      "Enter the number. 9\n"
     ]
    },
    {
     "name": "stdout",
     "output_type": "stream",
     "text": [
      "9*1=9\n",
      "9*2=18\n",
      "9*3=27\n",
      "9*4=36\n",
      "9*5=45\n",
      "9*6=54\n",
      "9*7=63\n",
      "9*8=72\n",
      "9*9=81\n",
      "9*10=90\n"
     ]
    }
   ],
   "source": [
    "table_of = int(input(\"Enter the number.\"))\n",
    "if table_of>=1 and table_of<= 10:\n",
    "    for  x in range (1 , 11):\n",
    "        print(f\"{table_of}*{x}={table_of*x}\")\n",
    "else: \n",
    "    print(\"the entered nuber is not between 1 to 10\")"
   ]
  },
  {
   "cell_type": "markdown",
   "id": "6251fdd6-845b-4c7e-a9e4-40fd1bd9c5f9",
   "metadata": {},
   "source": [
    "###### Q8. Power of a Number\n",
    "######  Write a Python program that takes a number and prints the powers of the number (starting from 1\n",
    "######  to 10) using a while loop. For example, if the user inputs 3, the output should be:\n",
    "######  3^1 = 3\n",
    "######  3^2 = 9\n",
    "######  3^3 = 27\n",
    "######  ... up to 3^10. "
   ]
  },
  {
   "cell_type": "code",
   "execution_count": 56,
   "id": "bfb86875-476a-4372-9e60-79aeb25ce02f",
   "metadata": {},
   "outputs": [
    {
     "name": "stdin",
     "output_type": "stream",
     "text": [
      "Enter the number: 4\n"
     ]
    },
    {
     "name": "stdout",
     "output_type": "stream",
     "text": [
      "4^1=4\n",
      "4^2=16\n",
      "4^3=64\n",
      "4^4=256\n",
      "4^5=1024\n",
      "4^6=4096\n",
      "4^7=16384\n",
      "4^8=65536\n",
      "4^9=262144\n",
      "4^10=1048576\n"
     ]
    }
   ],
   "source": [
    "power_of= int(input(\"Enter the number:\"))\n",
    "number = 1\n",
    "while number <=10 :  \n",
    "    print(f\"{power_of}^{number}={power_of**number}\")\n",
    "    number = number+1"
   ]
  },
  {
   "cell_type": "markdown",
   "id": "7204b755-d1db-4f05-bf1a-946ef106152c",
   "metadata": {},
   "source": [
    "######  Q9. Problem Statement: Write a Python program that takes an integer input from the user and\n",
    "###### counts down from that number to 0. The program should display the current number at each step\n",
    "######  until it reaches 0, at which point it should print a message indicating the countdown is finished\n",
    "######  Output Hint:\n",
    "###### Enter a number to start the countdown: 3\n",
    "######  3\n",
    "######  2\n",
    "######  1\n",
    "###### 0\n",
    "######  Countdown finished!"
   ]
  },
  {
   "cell_type": "code",
   "execution_count": 48,
   "id": "b2563241-c618-4238-b415-e548527101ff",
   "metadata": {},
   "outputs": [
    {
     "name": "stdin",
     "output_type": "stream",
     "text": [
      "Enter a number to start the countdown: 4\n"
     ]
    },
    {
     "name": "stdout",
     "output_type": "stream",
     "text": [
      "4\n",
      "3\n",
      "2\n",
      "1\n",
      "0\n",
      "Countdown finished!\n"
     ]
    }
   ],
   "source": [
    "count_down = int(input(\"Enter a number to start the countdown:\"))\n",
    "for x in range (count_down+1):\n",
    "    print(count_down)\n",
    "    count_down =count_down-1\n",
    "    \n",
    "print(\"Countdown finished!\")"
   ]
  },
  {
   "cell_type": "markdown",
   "id": "5eb8a751-b1eb-49d6-aff8-49e752e4d852",
   "metadata": {},
   "source": [
    "######  Q10. Write a Python program that takes an integer input n from the user and generates a right-\n",
    "###### angled triangle pattern of stars (*) with n rows. The first row should contain 1 star, the second row 2\n",
    "###### stars, the third row 3 stars, and so on until the nth row.\n",
    "###### Ensure the stars in each row are separated by spaces, and each row starts on a new line.\n",
    "###### # Pattern:\n",
    "###### *\n",
    "###### **\n",
    "###### ***\n",
    "###### ****\n",
    "###### *****"
   ]
  },
  {
   "cell_type": "code",
   "execution_count": 52,
   "id": "282b4017-2191-4540-bb97-a2c286b3ba7f",
   "metadata": {},
   "outputs": [
    {
     "name": "stdin",
     "output_type": "stream",
     "text": [
      "Enter a number: 6\n"
     ]
    },
    {
     "name": "stdout",
     "output_type": "stream",
     "text": [
      "*\n",
      "**\n",
      "***\n",
      "****\n",
      "*****\n",
      "******\n"
     ]
    }
   ],
   "source": [
    "star_row = int(input(\"Enter a number:\"))\n",
    "for x in range (star_row):\n",
    "    for y in range (x+1):\n",
    "        print(\"*\" , end='')\n",
    "    print()"
   ]
  }
 ],
 "metadata": {
  "kernelspec": {
   "display_name": "Python 3 (ipykernel)",
   "language": "python",
   "name": "python3"
  },
  "language_info": {
   "codemirror_mode": {
    "name": "ipython",
    "version": 3
   },
   "file_extension": ".py",
   "mimetype": "text/x-python",
   "name": "python",
   "nbconvert_exporter": "python",
   "pygments_lexer": "ipython3",
   "version": "3.12.7"
  }
 },
 "nbformat": 4,
 "nbformat_minor": 5
}
