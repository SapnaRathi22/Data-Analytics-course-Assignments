{
 "cells": [
  {
   "cell_type": "code",
   "execution_count": 117,
   "id": "1336490d-d86f-485d-a23e-20e923262eae",
   "metadata": {},
   "outputs": [],
   "source": [
    "import pandas as pd"
   ]
  },
  {
   "cell_type": "code",
   "execution_count": 119,
   "id": "7d67363d-f271-4cba-a255-43552e3cec00",
   "metadata": {},
   "outputs": [
    {
     "data": {
      "text/html": [
       "<div>\n",
       "<style scoped>\n",
       "    .dataframe tbody tr th:only-of-type {\n",
       "        vertical-align: middle;\n",
       "    }\n",
       "\n",
       "    .dataframe tbody tr th {\n",
       "        vertical-align: top;\n",
       "    }\n",
       "\n",
       "    .dataframe thead th {\n",
       "        text-align: right;\n",
       "    }\n",
       "</style>\n",
       "<table border=\"1\" class=\"dataframe\">\n",
       "  <thead>\n",
       "    <tr style=\"text-align: right;\">\n",
       "      <th></th>\n",
       "      <th>experience_coding</th>\n",
       "      <th>python_user</th>\n",
       "      <th>r_user</th>\n",
       "      <th>sql_user</th>\n",
       "      <th>most_used</th>\n",
       "      <th>compensation</th>\n",
       "    </tr>\n",
       "  </thead>\n",
       "  <tbody>\n",
       "    <tr>\n",
       "      <th>0</th>\n",
       "      <td>6.1</td>\n",
       "      <td>True</td>\n",
       "      <td>False</td>\n",
       "      <td>True</td>\n",
       "      <td>Scikit-learn</td>\n",
       "      <td>124267</td>\n",
       "    </tr>\n",
       "    <tr>\n",
       "      <th>1</th>\n",
       "      <td>12.3</td>\n",
       "      <td>True</td>\n",
       "      <td>True</td>\n",
       "      <td>True</td>\n",
       "      <td>Scikit-learn</td>\n",
       "      <td>236889</td>\n",
       "    </tr>\n",
       "    <tr>\n",
       "      <th>2</th>\n",
       "      <td>2.2</td>\n",
       "      <td>True</td>\n",
       "      <td>False</td>\n",
       "      <td>False</td>\n",
       "      <td>NaN</td>\n",
       "      <td>74321</td>\n",
       "    </tr>\n",
       "    <tr>\n",
       "      <th>3</th>\n",
       "      <td>2.7</td>\n",
       "      <td>False</td>\n",
       "      <td>False</td>\n",
       "      <td>True</td>\n",
       "      <td>NaN</td>\n",
       "      <td>62593</td>\n",
       "    </tr>\n",
       "    <tr>\n",
       "      <th>4</th>\n",
       "      <td>1.2</td>\n",
       "      <td>True</td>\n",
       "      <td>False</td>\n",
       "      <td>False</td>\n",
       "      <td>Scikit-learn</td>\n",
       "      <td>36288</td>\n",
       "    </tr>\n",
       "    <tr>\n",
       "      <th>...</th>\n",
       "      <td>...</td>\n",
       "      <td>...</td>\n",
       "      <td>...</td>\n",
       "      <td>...</td>\n",
       "      <td>...</td>\n",
       "      <td>...</td>\n",
       "    </tr>\n",
       "    <tr>\n",
       "      <th>25968</th>\n",
       "      <td>1.9</td>\n",
       "      <td>True</td>\n",
       "      <td>False</td>\n",
       "      <td>True</td>\n",
       "      <td>Scikit-learn</td>\n",
       "      <td>15800</td>\n",
       "    </tr>\n",
       "    <tr>\n",
       "      <th>25969</th>\n",
       "      <td>1.4</td>\n",
       "      <td>True</td>\n",
       "      <td>False</td>\n",
       "      <td>False</td>\n",
       "      <td>PyTorch</td>\n",
       "      <td>62456</td>\n",
       "    </tr>\n",
       "    <tr>\n",
       "      <th>25970</th>\n",
       "      <td>0.0</td>\n",
       "      <td>False</td>\n",
       "      <td>False</td>\n",
       "      <td>False</td>\n",
       "      <td>NaN</td>\n",
       "      <td>923</td>\n",
       "    </tr>\n",
       "    <tr>\n",
       "      <th>25971</th>\n",
       "      <td>9.4</td>\n",
       "      <td>True</td>\n",
       "      <td>False</td>\n",
       "      <td>True</td>\n",
       "      <td>Scikit-learn</td>\n",
       "      <td>60609</td>\n",
       "    </tr>\n",
       "    <tr>\n",
       "      <th>25972</th>\n",
       "      <td>0.0</td>\n",
       "      <td>False</td>\n",
       "      <td>False</td>\n",
       "      <td>False</td>\n",
       "      <td>NaN</td>\n",
       "      <td>493</td>\n",
       "    </tr>\n",
       "  </tbody>\n",
       "</table>\n",
       "<p>25973 rows × 6 columns</p>\n",
       "</div>"
      ],
      "text/plain": [
       "       experience_coding  python_user  r_user  sql_user     most_used  \\\n",
       "0                    6.1         True   False      True  Scikit-learn   \n",
       "1                   12.3         True    True      True  Scikit-learn   \n",
       "2                    2.2         True   False     False           NaN   \n",
       "3                    2.7        False   False      True           NaN   \n",
       "4                    1.2         True   False     False  Scikit-learn   \n",
       "...                  ...          ...     ...       ...           ...   \n",
       "25968                1.9         True   False      True  Scikit-learn   \n",
       "25969                1.4         True   False     False       PyTorch   \n",
       "25970                0.0        False   False     False           NaN   \n",
       "25971                9.4         True   False      True  Scikit-learn   \n",
       "25972                0.0        False   False     False           NaN   \n",
       "\n",
       "       compensation  \n",
       "0            124267  \n",
       "1            236889  \n",
       "2             74321  \n",
       "3             62593  \n",
       "4             36288  \n",
       "...             ...  \n",
       "25968         15800  \n",
       "25969         62456  \n",
       "25970           923  \n",
       "25971         60609  \n",
       "25972           493  \n",
       "\n",
       "[25973 rows x 6 columns]"
      ]
     },
     "execution_count": 119,
     "metadata": {},
     "output_type": "execute_result"
    }
   ],
   "source": [
    "df = pd.read_csv('compensation data.csv')\n",
    "df"
   ]
  },
  {
   "cell_type": "code",
   "execution_count": 121,
   "id": "8413d7d7-8668-4458-88a8-f6ea9cd67770",
   "metadata": {},
   "outputs": [
    {
     "data": {
      "text/plain": [
       "(25973, 6)"
      ]
     },
     "execution_count": 121,
     "metadata": {},
     "output_type": "execute_result"
    }
   ],
   "source": [
    "df.shape"
   ]
  },
  {
   "cell_type": "code",
   "execution_count": 123,
   "id": "c6503d01-0b92-4d58-9e07-f4d526eb6fa2",
   "metadata": {},
   "outputs": [
    {
     "data": {
      "text/html": [
       "<div>\n",
       "<style scoped>\n",
       "    .dataframe tbody tr th:only-of-type {\n",
       "        vertical-align: middle;\n",
       "    }\n",
       "\n",
       "    .dataframe tbody tr th {\n",
       "        vertical-align: top;\n",
       "    }\n",
       "\n",
       "    .dataframe thead th {\n",
       "        text-align: right;\n",
       "    }\n",
       "</style>\n",
       "<table border=\"1\" class=\"dataframe\">\n",
       "  <thead>\n",
       "    <tr style=\"text-align: right;\">\n",
       "      <th></th>\n",
       "      <th>experience_coding</th>\n",
       "      <th>python_user</th>\n",
       "      <th>r_user</th>\n",
       "      <th>sql_user</th>\n",
       "      <th>most_used</th>\n",
       "      <th>compensation</th>\n",
       "    </tr>\n",
       "  </thead>\n",
       "  <tbody>\n",
       "    <tr>\n",
       "      <th>0</th>\n",
       "      <td>6.1</td>\n",
       "      <td>True</td>\n",
       "      <td>False</td>\n",
       "      <td>True</td>\n",
       "      <td>Scikit-learn</td>\n",
       "      <td>124267</td>\n",
       "    </tr>\n",
       "    <tr>\n",
       "      <th>1</th>\n",
       "      <td>12.3</td>\n",
       "      <td>True</td>\n",
       "      <td>True</td>\n",
       "      <td>True</td>\n",
       "      <td>Scikit-learn</td>\n",
       "      <td>236889</td>\n",
       "    </tr>\n",
       "    <tr>\n",
       "      <th>2</th>\n",
       "      <td>2.2</td>\n",
       "      <td>True</td>\n",
       "      <td>False</td>\n",
       "      <td>False</td>\n",
       "      <td>NaN</td>\n",
       "      <td>74321</td>\n",
       "    </tr>\n",
       "    <tr>\n",
       "      <th>3</th>\n",
       "      <td>2.7</td>\n",
       "      <td>False</td>\n",
       "      <td>False</td>\n",
       "      <td>True</td>\n",
       "      <td>NaN</td>\n",
       "      <td>62593</td>\n",
       "    </tr>\n",
       "    <tr>\n",
       "      <th>4</th>\n",
       "      <td>1.2</td>\n",
       "      <td>True</td>\n",
       "      <td>False</td>\n",
       "      <td>False</td>\n",
       "      <td>Scikit-learn</td>\n",
       "      <td>36288</td>\n",
       "    </tr>\n",
       "  </tbody>\n",
       "</table>\n",
       "</div>"
      ],
      "text/plain": [
       "   experience_coding  python_user  r_user  sql_user     most_used  \\\n",
       "0                6.1         True   False      True  Scikit-learn   \n",
       "1               12.3         True    True      True  Scikit-learn   \n",
       "2                2.2         True   False     False           NaN   \n",
       "3                2.7        False   False      True           NaN   \n",
       "4                1.2         True   False     False  Scikit-learn   \n",
       "\n",
       "   compensation  \n",
       "0        124267  \n",
       "1        236889  \n",
       "2         74321  \n",
       "3         62593  \n",
       "4         36288  "
      ]
     },
     "execution_count": 123,
     "metadata": {},
     "output_type": "execute_result"
    }
   ],
   "source": [
    "df.head(5)"
   ]
  },
  {
   "cell_type": "code",
   "execution_count": 125,
   "id": "84e6cd61-0e65-4760-b7ab-2e9cf2d2e50f",
   "metadata": {},
   "outputs": [
    {
     "data": {
      "text/html": [
       "<div>\n",
       "<style scoped>\n",
       "    .dataframe tbody tr th:only-of-type {\n",
       "        vertical-align: middle;\n",
       "    }\n",
       "\n",
       "    .dataframe tbody tr th {\n",
       "        vertical-align: top;\n",
       "    }\n",
       "\n",
       "    .dataframe thead th {\n",
       "        text-align: right;\n",
       "    }\n",
       "</style>\n",
       "<table border=\"1\" class=\"dataframe\">\n",
       "  <thead>\n",
       "    <tr style=\"text-align: right;\">\n",
       "      <th></th>\n",
       "      <th>experience_coding</th>\n",
       "      <th>python_user</th>\n",
       "      <th>r_user</th>\n",
       "      <th>sql_user</th>\n",
       "      <th>most_used</th>\n",
       "      <th>compensation</th>\n",
       "    </tr>\n",
       "  </thead>\n",
       "  <tbody>\n",
       "  </tbody>\n",
       "</table>\n",
       "</div>"
      ],
      "text/plain": [
       "Empty DataFrame\n",
       "Columns: [experience_coding, python_user, r_user, sql_user, most_used, compensation]\n",
       "Index: []"
      ]
     },
     "execution_count": 125,
     "metadata": {},
     "output_type": "execute_result"
    }
   ],
   "source": [
    "df.head(0)"
   ]
  },
  {
   "cell_type": "code",
   "execution_count": 127,
   "id": "3671315b-c6bd-44ea-9690-7ab47d67b4e7",
   "metadata": {},
   "outputs": [
    {
     "name": "stdout",
     "output_type": "stream",
     "text": [
      "<class 'pandas.core.frame.DataFrame'>\n",
      "RangeIndex: 25973 entries, 0 to 25972\n",
      "Data columns (total 6 columns):\n",
      " #   Column             Non-Null Count  Dtype  \n",
      "---  ------             --------------  -----  \n",
      " 0   experience_coding  25973 non-null  float64\n",
      " 1   python_user        25973 non-null  bool   \n",
      " 2   r_user             25973 non-null  bool   \n",
      " 3   sql_user           25973 non-null  bool   \n",
      " 4   most_used          16835 non-null  object \n",
      " 5   compensation       25973 non-null  int64  \n",
      "dtypes: bool(3), float64(1), int64(1), object(1)\n",
      "memory usage: 685.0+ KB\n"
     ]
    }
   ],
   "source": [
    "df.info()"
   ]
  },
  {
   "cell_type": "code",
   "execution_count": 129,
   "id": "47f61207-1ea2-404e-9f06-8499fb8ffdfd",
   "metadata": {},
   "outputs": [],
   "source": [
    "survey = df"
   ]
  },
  {
   "cell_type": "code",
   "execution_count": 131,
   "id": "b8242558-c8c4-436b-ad17-7eac1c5ea893",
   "metadata": {},
   "outputs": [
    {
     "data": {
      "text/html": [
       "<div>\n",
       "<style scoped>\n",
       "    .dataframe tbody tr th:only-of-type {\n",
       "        vertical-align: middle;\n",
       "    }\n",
       "\n",
       "    .dataframe tbody tr th {\n",
       "        vertical-align: top;\n",
       "    }\n",
       "\n",
       "    .dataframe thead th {\n",
       "        text-align: right;\n",
       "    }\n",
       "</style>\n",
       "<table border=\"1\" class=\"dataframe\">\n",
       "  <thead>\n",
       "    <tr style=\"text-align: right;\">\n",
       "      <th></th>\n",
       "      <th>experience_coding</th>\n",
       "      <th>python_user</th>\n",
       "      <th>r_user</th>\n",
       "      <th>sql_user</th>\n",
       "      <th>most_used</th>\n",
       "      <th>compensation</th>\n",
       "    </tr>\n",
       "  </thead>\n",
       "  <tbody>\n",
       "    <tr>\n",
       "      <th>0</th>\n",
       "      <td>6.1</td>\n",
       "      <td>True</td>\n",
       "      <td>False</td>\n",
       "      <td>True</td>\n",
       "      <td>Scikit-learn</td>\n",
       "      <td>124267</td>\n",
       "    </tr>\n",
       "    <tr>\n",
       "      <th>1</th>\n",
       "      <td>12.3</td>\n",
       "      <td>True</td>\n",
       "      <td>True</td>\n",
       "      <td>True</td>\n",
       "      <td>Scikit-learn</td>\n",
       "      <td>236889</td>\n",
       "    </tr>\n",
       "    <tr>\n",
       "      <th>2</th>\n",
       "      <td>2.2</td>\n",
       "      <td>True</td>\n",
       "      <td>False</td>\n",
       "      <td>False</td>\n",
       "      <td>NaN</td>\n",
       "      <td>74321</td>\n",
       "    </tr>\n",
       "    <tr>\n",
       "      <th>3</th>\n",
       "      <td>2.7</td>\n",
       "      <td>False</td>\n",
       "      <td>False</td>\n",
       "      <td>True</td>\n",
       "      <td>NaN</td>\n",
       "      <td>62593</td>\n",
       "    </tr>\n",
       "    <tr>\n",
       "      <th>4</th>\n",
       "      <td>1.2</td>\n",
       "      <td>True</td>\n",
       "      <td>False</td>\n",
       "      <td>False</td>\n",
       "      <td>Scikit-learn</td>\n",
       "      <td>36288</td>\n",
       "    </tr>\n",
       "    <tr>\n",
       "      <th>...</th>\n",
       "      <td>...</td>\n",
       "      <td>...</td>\n",
       "      <td>...</td>\n",
       "      <td>...</td>\n",
       "      <td>...</td>\n",
       "      <td>...</td>\n",
       "    </tr>\n",
       "    <tr>\n",
       "      <th>25968</th>\n",
       "      <td>1.9</td>\n",
       "      <td>True</td>\n",
       "      <td>False</td>\n",
       "      <td>True</td>\n",
       "      <td>Scikit-learn</td>\n",
       "      <td>15800</td>\n",
       "    </tr>\n",
       "    <tr>\n",
       "      <th>25969</th>\n",
       "      <td>1.4</td>\n",
       "      <td>True</td>\n",
       "      <td>False</td>\n",
       "      <td>False</td>\n",
       "      <td>PyTorch</td>\n",
       "      <td>62456</td>\n",
       "    </tr>\n",
       "    <tr>\n",
       "      <th>25970</th>\n",
       "      <td>0.0</td>\n",
       "      <td>False</td>\n",
       "      <td>False</td>\n",
       "      <td>False</td>\n",
       "      <td>NaN</td>\n",
       "      <td>923</td>\n",
       "    </tr>\n",
       "    <tr>\n",
       "      <th>25971</th>\n",
       "      <td>9.4</td>\n",
       "      <td>True</td>\n",
       "      <td>False</td>\n",
       "      <td>True</td>\n",
       "      <td>Scikit-learn</td>\n",
       "      <td>60609</td>\n",
       "    </tr>\n",
       "    <tr>\n",
       "      <th>25972</th>\n",
       "      <td>0.0</td>\n",
       "      <td>False</td>\n",
       "      <td>False</td>\n",
       "      <td>False</td>\n",
       "      <td>NaN</td>\n",
       "      <td>493</td>\n",
       "    </tr>\n",
       "  </tbody>\n",
       "</table>\n",
       "<p>25973 rows × 6 columns</p>\n",
       "</div>"
      ],
      "text/plain": [
       "       experience_coding  python_user  r_user  sql_user     most_used  \\\n",
       "0                    6.1         True   False      True  Scikit-learn   \n",
       "1                   12.3         True    True      True  Scikit-learn   \n",
       "2                    2.2         True   False     False           NaN   \n",
       "3                    2.7        False   False      True           NaN   \n",
       "4                    1.2         True   False     False  Scikit-learn   \n",
       "...                  ...          ...     ...       ...           ...   \n",
       "25968                1.9         True   False      True  Scikit-learn   \n",
       "25969                1.4         True   False     False       PyTorch   \n",
       "25970                0.0        False   False     False           NaN   \n",
       "25971                9.4         True   False      True  Scikit-learn   \n",
       "25972                0.0        False   False     False           NaN   \n",
       "\n",
       "       compensation  \n",
       "0            124267  \n",
       "1            236889  \n",
       "2             74321  \n",
       "3             62593  \n",
       "4             36288  \n",
       "...             ...  \n",
       "25968         15800  \n",
       "25969         62456  \n",
       "25970           923  \n",
       "25971         60609  \n",
       "25972           493  \n",
       "\n",
       "[25973 rows x 6 columns]"
      ]
     },
     "execution_count": 131,
     "metadata": {},
     "output_type": "execute_result"
    }
   ],
   "source": [
    "survey"
   ]
  },
  {
   "cell_type": "code",
   "execution_count": 133,
   "id": "35aaa1ab-fa16-4e49-8b5a-5badc55846fc",
   "metadata": {},
   "outputs": [
    {
     "data": {
      "text/plain": [
       "0        124267\n",
       "1        236889\n",
       "2         74321\n",
       "3         62593\n",
       "4         36288\n",
       "          ...  \n",
       "25968     15800\n",
       "25969     62456\n",
       "25970       923\n",
       "25971     60609\n",
       "25972       493\n",
       "Name: compensation, Length: 25973, dtype: int64"
      ]
     },
     "execution_count": 133,
     "metadata": {},
     "output_type": "execute_result"
    }
   ],
   "source": [
    "df.compensation"
   ]
  },
  {
   "cell_type": "code",
   "execution_count": 135,
   "id": "b2ad0998-3879-4e04-b31a-cc760d3c3e31",
   "metadata": {},
   "outputs": [
    {
     "data": {
      "text/plain": [
       "25973"
      ]
     },
     "execution_count": 135,
     "metadata": {},
     "output_type": "execute_result"
    }
   ],
   "source": [
    "df.shape[0]"
   ]
  },
  {
   "cell_type": "code",
   "execution_count": 137,
   "id": "a5d59d90-ecbd-40b0-b215-87d573eb29bc",
   "metadata": {},
   "outputs": [
    {
     "name": "stdout",
     "output_type": "stream",
     "text": [
      "total nuber of python users : 21860\n",
      "total nuber of r_users : 5335\n",
      "total number of sql_users : 10757\n"
     ]
    }
   ],
   "source": [
    "true_count1 = df['python_user'].value_counts().get(True, 0)\n",
    "print(\"total nuber of python users :\", true_count1)\n",
    "true_count2 = df['r_user'].value_counts().get(True, 0)\n",
    "print(\"total nuber of r_users :\", true_count2)\n",
    "true_count3 = df['sql_user'].value_counts().get(True, 0)\n",
    "print(\"total number of sql_users :\",true_count3)"
   ]
  },
  {
   "cell_type": "code",
   "execution_count": 139,
   "id": "d386317f-8937-404a-9c8f-8f6a06273942",
   "metadata": {},
   "outputs": [
    {
     "data": {
      "text/plain": [
       "count    25973.000000\n",
       "mean         5.297232\n",
       "std          6.898151\n",
       "min          0.000000\n",
       "25%          0.950000\n",
       "50%          2.500000\n",
       "75%          6.000000\n",
       "max         30.000000\n",
       "Name: experience_coding, dtype: float64"
      ]
     },
     "execution_count": 139,
     "metadata": {},
     "output_type": "execute_result"
    }
   ],
   "source": [
    "df.experience_coding.describe()"
   ]
  },
  {
   "cell_type": "code",
   "execution_count": 141,
   "id": "7a52403a-4495-412c-a71b-8c17b5436dcd",
   "metadata": {},
   "outputs": [
    {
     "data": {
      "text/plain": [
       "0.0"
      ]
     },
     "execution_count": 141,
     "metadata": {},
     "output_type": "execute_result"
    }
   ],
   "source": [
    "df.experience_coding.min()"
   ]
  },
  {
   "cell_type": "code",
   "execution_count": 143,
   "id": "8dc73fb4-23ee-42f3-9ddc-8109cdb53810",
   "metadata": {},
   "outputs": [
    {
     "data": {
      "text/plain": [
       "30.0"
      ]
     },
     "execution_count": 143,
     "metadata": {},
     "output_type": "execute_result"
    }
   ],
   "source": [
    "df.experience_coding.max()"
   ]
  },
  {
   "cell_type": "code",
   "execution_count": 145,
   "id": "5c87638d-513b-4cac-8292-61416d25b4bd",
   "metadata": {},
   "outputs": [
    {
     "data": {
      "text/plain": [
       "5.297231740653754"
      ]
     },
     "execution_count": 145,
     "metadata": {},
     "output_type": "execute_result"
    }
   ],
   "source": [
    "df.experience_coding.sum()/df.experience_coding.count()  "
   ]
  },
  {
   "cell_type": "code",
   "execution_count": 147,
   "id": "00a1eb80-4208-42cb-9850-3c5bf568b739",
   "metadata": {},
   "outputs": [
    {
     "name": "stdout",
     "output_type": "stream",
     "text": [
      "min of compensation:  0\n",
      "max of compensation:  1492951\n",
      "avg of compensation:  53252.81696377007\n"
     ]
    }
   ],
   "source": [
    "print(\"min of compensation: \",df.compensation.min())\n",
    "print(\"max of compensation: \",df.compensation.max())\n",
    "print(\"avg of compensation: \",df.compensation.sum()/df.compensation.count())"
   ]
  },
  {
   "cell_type": "code",
   "execution_count": 149,
   "id": "cec3e706-532f-4f4b-b928-0c68c6faaa0f",
   "metadata": {},
   "outputs": [
    {
     "data": {
      "text/plain": [
       "0         6.1\n",
       "1        12.3\n",
       "2         2.2\n",
       "3         2.7\n",
       "4         1.2\n",
       "         ... \n",
       "25968     1.9\n",
       "25969     1.4\n",
       "25970     0.0\n",
       "25971     9.4\n",
       "25972     0.0\n",
       "Name: experience_coding, Length: 25973, dtype: float64"
      ]
     },
     "execution_count": 149,
     "metadata": {},
     "output_type": "execute_result"
    }
   ],
   "source": [
    "df.experience_coding"
   ]
  },
  {
   "cell_type": "code",
   "execution_count": 155,
   "id": "477638ff-a0bf-4c9d-8e7a-73a172440b3e",
   "metadata": {},
   "outputs": [
    {
     "data": {
      "text/html": [
       "<div>\n",
       "<style scoped>\n",
       "    .dataframe tbody tr th:only-of-type {\n",
       "        vertical-align: middle;\n",
       "    }\n",
       "\n",
       "    .dataframe tbody tr th {\n",
       "        vertical-align: top;\n",
       "    }\n",
       "\n",
       "    .dataframe thead th {\n",
       "        text-align: right;\n",
       "    }\n",
       "</style>\n",
       "<table border=\"1\" class=\"dataframe\">\n",
       "  <thead>\n",
       "    <tr style=\"text-align: right;\">\n",
       "      <th></th>\n",
       "      <th>experience_coding</th>\n",
       "      <th>python_user</th>\n",
       "      <th>r_user</th>\n",
       "      <th>sql_user</th>\n",
       "      <th>most_used</th>\n",
       "      <th>compensation</th>\n",
       "      <th>category</th>\n",
       "    </tr>\n",
       "  </thead>\n",
       "  <tbody>\n",
       "    <tr>\n",
       "      <th>0</th>\n",
       "      <td>6.1</td>\n",
       "      <td>True</td>\n",
       "      <td>False</td>\n",
       "      <td>True</td>\n",
       "      <td>Scikit-learn</td>\n",
       "      <td>124267</td>\n",
       "      <td>5-10 years</td>\n",
       "    </tr>\n",
       "    <tr>\n",
       "      <th>1</th>\n",
       "      <td>12.3</td>\n",
       "      <td>True</td>\n",
       "      <td>True</td>\n",
       "      <td>True</td>\n",
       "      <td>Scikit-learn</td>\n",
       "      <td>236889</td>\n",
       "      <td>10-15 years</td>\n",
       "    </tr>\n",
       "    <tr>\n",
       "      <th>2</th>\n",
       "      <td>2.2</td>\n",
       "      <td>True</td>\n",
       "      <td>False</td>\n",
       "      <td>False</td>\n",
       "      <td>NaN</td>\n",
       "      <td>74321</td>\n",
       "      <td>&lt;5 years</td>\n",
       "    </tr>\n",
       "    <tr>\n",
       "      <th>3</th>\n",
       "      <td>2.7</td>\n",
       "      <td>False</td>\n",
       "      <td>False</td>\n",
       "      <td>True</td>\n",
       "      <td>NaN</td>\n",
       "      <td>62593</td>\n",
       "      <td>&lt;5 years</td>\n",
       "    </tr>\n",
       "    <tr>\n",
       "      <th>4</th>\n",
       "      <td>1.2</td>\n",
       "      <td>True</td>\n",
       "      <td>False</td>\n",
       "      <td>False</td>\n",
       "      <td>Scikit-learn</td>\n",
       "      <td>36288</td>\n",
       "      <td>&lt;5 years</td>\n",
       "    </tr>\n",
       "    <tr>\n",
       "      <th>...</th>\n",
       "      <td>...</td>\n",
       "      <td>...</td>\n",
       "      <td>...</td>\n",
       "      <td>...</td>\n",
       "      <td>...</td>\n",
       "      <td>...</td>\n",
       "      <td>...</td>\n",
       "    </tr>\n",
       "    <tr>\n",
       "      <th>25968</th>\n",
       "      <td>1.9</td>\n",
       "      <td>True</td>\n",
       "      <td>False</td>\n",
       "      <td>True</td>\n",
       "      <td>Scikit-learn</td>\n",
       "      <td>15800</td>\n",
       "      <td>&lt;5 years</td>\n",
       "    </tr>\n",
       "    <tr>\n",
       "      <th>25969</th>\n",
       "      <td>1.4</td>\n",
       "      <td>True</td>\n",
       "      <td>False</td>\n",
       "      <td>False</td>\n",
       "      <td>PyTorch</td>\n",
       "      <td>62456</td>\n",
       "      <td>&lt;5 years</td>\n",
       "    </tr>\n",
       "    <tr>\n",
       "      <th>25970</th>\n",
       "      <td>0.0</td>\n",
       "      <td>False</td>\n",
       "      <td>False</td>\n",
       "      <td>False</td>\n",
       "      <td>NaN</td>\n",
       "      <td>923</td>\n",
       "      <td>&lt;5 years</td>\n",
       "    </tr>\n",
       "    <tr>\n",
       "      <th>25971</th>\n",
       "      <td>9.4</td>\n",
       "      <td>True</td>\n",
       "      <td>False</td>\n",
       "      <td>True</td>\n",
       "      <td>Scikit-learn</td>\n",
       "      <td>60609</td>\n",
       "      <td>5-10 years</td>\n",
       "    </tr>\n",
       "    <tr>\n",
       "      <th>25972</th>\n",
       "      <td>0.0</td>\n",
       "      <td>False</td>\n",
       "      <td>False</td>\n",
       "      <td>False</td>\n",
       "      <td>NaN</td>\n",
       "      <td>493</td>\n",
       "      <td>&lt;5 years</td>\n",
       "    </tr>\n",
       "  </tbody>\n",
       "</table>\n",
       "<p>25973 rows × 7 columns</p>\n",
       "</div>"
      ],
      "text/plain": [
       "       experience_coding  python_user  r_user  sql_user     most_used  \\\n",
       "0                    6.1         True   False      True  Scikit-learn   \n",
       "1                   12.3         True    True      True  Scikit-learn   \n",
       "2                    2.2         True   False     False           NaN   \n",
       "3                    2.7        False   False      True           NaN   \n",
       "4                    1.2         True   False     False  Scikit-learn   \n",
       "...                  ...          ...     ...       ...           ...   \n",
       "25968                1.9         True   False      True  Scikit-learn   \n",
       "25969                1.4         True   False     False       PyTorch   \n",
       "25970                0.0        False   False     False           NaN   \n",
       "25971                9.4         True   False      True  Scikit-learn   \n",
       "25972                0.0        False   False     False           NaN   \n",
       "\n",
       "       compensation     category  \n",
       "0            124267   5-10 years  \n",
       "1            236889  10-15 years  \n",
       "2             74321     <5 years  \n",
       "3             62593     <5 years  \n",
       "4             36288     <5 years  \n",
       "...             ...          ...  \n",
       "25968         15800     <5 years  \n",
       "25969         62456     <5 years  \n",
       "25970           923     <5 years  \n",
       "25971         60609   5-10 years  \n",
       "25972           493     <5 years  \n",
       "\n",
       "[25973 rows x 7 columns]"
      ]
     },
     "execution_count": 155,
     "metadata": {},
     "output_type": "execute_result"
    }
   ],
   "source": [
    "df['category'] = df['experience_coding'].apply(\n",
    "    lambda x: '<5 years' if x < 5 \n",
    "    else ('5-10 years' if 5 <= x < 10 \n",
    "          else ('10-15 years' if 10 <= x < 15 \n",
    "                else ('15-20 years' if 15 <= x < 20 \n",
    "                      else ('20-25 years' if 20 <= x < 25 \n",
    "                            else '+25 years'))))\n",
    ")\n",
    "df"
   ]
  },
  {
   "cell_type": "code",
   "execution_count": 276,
   "id": "716f496d-aaac-4a62-8d74-aa2f812b0b74",
   "metadata": {},
   "outputs": [
    {
     "data": {
      "text/plain": [
       "45047.87484669119"
      ]
     },
     "execution_count": 276,
     "metadata": {},
     "output_type": "execute_result"
    }
   ],
   "source": [
    "df[df['experience_coding'] < 5]['compensation'].sum()/df[df['experience_coding'] < 5]['compensation'].count()"
   ]
  },
  {
   "cell_type": "code",
   "execution_count": 288,
   "id": "badbf86a-783a-435d-885b-2d308fcf261f",
   "metadata": {},
   "outputs": [
    {
     "name": "stdout",
     "output_type": "stream",
     "text": [
      "59312.82033470161\n"
     ]
    }
   ],
   "source": [
    "average_compensation = df[(df['experience_coding'] >= 5) & (df['experience_coding'] < 10)]['compensation'].sum() / df[(df['experience_coding'] >= 5) & (df['experience_coding'] < 10)]['compensation'].count()\n",
    "print(average_compensation)"
   ]
  },
  {
   "cell_type": "code",
   "execution_count": 290,
   "id": "f063e207-e9e6-4684-ab93-b876337efc4c",
   "metadata": {},
   "outputs": [
    {
     "name": "stdout",
     "output_type": "stream",
     "text": [
      "80226.75581395348\n"
     ]
    }
   ],
   "source": [
    "average_compensation = df[(df['experience_coding'] >= 10) & (df['experience_coding'] < 15)]['compensation'].sum() / df[(df['experience_coding'] >= 10) & (df['experience_coding'] < 15)]['compensation'].count()\n",
    "print(average_compensation)"
   ]
  },
  {
   "cell_type": "code",
   "execution_count": 294,
   "id": "f9e918b8-b125-4265-ab3b-a7a8a0b4e6ad",
   "metadata": {},
   "outputs": [
    {
     "name": "stdout",
     "output_type": "stream",
     "text": [
      "75101.82694106642\n"
     ]
    }
   ],
   "source": [
    "average_compensation = df[(df['experience_coding'] >= 15) & (df['experience_coding'] < 20)]['compensation'].sum() / df[(df['experience_coding'] >= 15) & (df['experience_coding'] < 20)]['compensation'].count()\n",
    "print(average_compensation)"
   ]
  },
  {
   "cell_type": "code",
   "execution_count": 296,
   "id": "ae02930b-2492-4edf-b959-880f582d995b",
   "metadata": {},
   "outputs": [
    {
     "name": "stdout",
     "output_type": "stream",
     "text": [
      "103159.80432432433\n"
     ]
    }
   ],
   "source": [
    "average_compensation = df[(df['experience_coding'] >= 20) & (df['experience_coding'] < 25)]['compensation'].sum() / df[(df['experience_coding'] >= 20) & (df['experience_coding'] < 25)]['compensation'].count()\n",
    "print(average_compensation)"
   ]
  },
  {
   "cell_type": "code",
   "execution_count": 300,
   "id": "c9149639-762f-41a9-8495-e96015c18bdd",
   "metadata": {},
   "outputs": [
    {
     "name": "stdout",
     "output_type": "stream",
     "text": [
      "90444.98512221042\n"
     ]
    }
   ],
   "source": [
    "average_compensation = df[df['experience_coding'] >= 25 ]['compensation'].sum() / df[df['experience_coding'] >= 25 ]['compensation'].count()\n",
    "print(average_compensation)"
   ]
  },
  {
   "cell_type": "code",
   "execution_count": 270,
   "id": "a4c22201-9b55-412d-9b45-09f3e604d53d",
   "metadata": {},
   "outputs": [],
   "source": [
    "df.to_csv('compensation data1.csv', index=False)"
   ]
  },
  {
   "cell_type": "code",
   "execution_count": null,
   "id": "8f5b7739-d022-4d37-b798-46d8f80d36bb",
   "metadata": {},
   "outputs": [],
   "source": []
  }
 ],
 "metadata": {
  "kernelspec": {
   "display_name": "Python [conda env:base] *",
   "language": "python",
   "name": "conda-base-py"
  },
  "language_info": {
   "codemirror_mode": {
    "name": "ipython",
    "version": 3
   },
   "file_extension": ".py",
   "mimetype": "text/x-python",
   "name": "python",
   "nbconvert_exporter": "python",
   "pygments_lexer": "ipython3",
   "version": "3.12.7"
  }
 },
 "nbformat": 4,
 "nbformat_minor": 5
}
