{
 "cells": [
  {
   "cell_type": "markdown",
   "id": "66888222-ea72-42c8-a9f0-1f6d416f87e2",
   "metadata": {},
   "source": [
    "## Q1. Write program to check a person’s eligibility for a loan based on age, credit score, and income. This time, the eligibility criteria will be:The person must be 18 years or older. The person must have a credit score of 650 or higher. The person must havean annual income of at least 30000 dollars If the person has a credit score of 700 or higher, they may still be eligiblewith an income of 25000 dollars or more."
   ]
  },
  {
   "cell_type": "code",
   "execution_count": 3,
   "id": "2664e76c-851b-4de5-a6bb-34a6e69e1ddf",
   "metadata": {},
   "outputs": [
    {
     "name": "stdout",
     "output_type": "stream",
     "text": [
      "you are eligible for loan\n"
     ]
    }
   ],
   "source": [
    "persons_age = 50\n",
    "credit_score = 740\n",
    "annual_income = 40000\n",
    "if (persons_age>=18) and (credit_score>=650) and (annual_income>= 30000):\n",
    "    print(\"you are eligible for loan\")\n",
    "elif (persons_age>=18) and (credit_score>=700) and (annual_income>= 25000):\n",
    "       print(\"you are eligible for loan\")\n",
    "else:\n",
    "       print(\"you are not eligible for loan\")"
   ]
  },
  {
   "cell_type": "markdown",
   "id": "a2c75962-5bd9-42e1-815d-5b7bad2ac608",
   "metadata": {},
   "source": [
    "## Q2.Write a Python program that checks if a person is an adult (age ≥ 18).Take the age as input.If the person is underage (age &lt; 18), show message: &quot;You are underage&quot; and don&#39;t ask for experience.If the person is an adult, take years of experience as input and print:&quot;You have a lot of experience.&quot; (10+ years)&quot;You have moderate experience.&quot; (5-9 years)&quot;You are relatively new.&quot; (2-4 years)&quot;You are just starting out.&quot; (less than 2 years)"
   ]
  },
  {
   "cell_type": "code",
   "execution_count": 18,
   "id": "d7d52ed7-0ecd-446d-b6b5-e071dd0e8116",
   "metadata": {},
   "outputs": [
    {
     "name": "stdin",
     "output_type": "stream",
     "text": [
      "Enter your age. 45\n",
      "Enter your experience. 5\n"
     ]
    },
    {
     "name": "stdout",
     "output_type": "stream",
     "text": [
      "You have a moderate experience\n"
     ]
    }
   ],
   "source": [
    "age= int(input(\"Enter your age.\"))\n",
    "if age<18:\n",
    "    print(\"you are underage so dont ask for experience.\")\n",
    "else:\n",
    "    experience= int(input(\"Enter your experience.\"))\n",
    "    if experience>10:\n",
    "        print(\"You have a lot of experience\")\n",
    "    elif  experience <=9 and experience >=5:\n",
    "        print(\"You have a moderate experience\")\n",
    "    elif  experience <=4 and experience >=2:\n",
    "        print(\"You are relatively new\")\n",
    "    elif  experience<2:\n",
    "        print(\"You are just starting\")\n",
    "\n",
    "    "
   ]
  },
  {
   "cell_type": "markdown",
   "id": "db3c026d-8010-4ee9-a010-c3cf905d5ee6",
   "metadata": {},
   "source": [
    "## Q3. Write a program to explore below variablesa) Print their memory address (to check if python assigns same address of different variables having same element)b) Find memory size and append them in a list, use this list to find data type having least memory size c) Print final name of data type which has lowest memory Result will help a programmer to decide which variable is storing less memory and variable locations"
   ]
  },
  {
   "cell_type": "code",
   "execution_count": 34,
   "id": "6d90da64-1db0-4d87-8d9f-060af0acdea6",
   "metadata": {},
   "outputs": [
    {
     "name": "stdout",
     "output_type": "stream",
     "text": [
      "140714491522520\n",
      "140714491522520\n"
     ]
    }
   ],
   "source": [
    "#a) Print their memory address (to check if python assigns same address of different variables having same element)\n",
    "var_1= 34\n",
    "var_2 = 34\n",
    "var_3 = 35.7\n",
    "var_4 = 'sapna'\n",
    "print(id(var_1))\n",
    "print(id(var_2))"
   ]
  },
  {
   "cell_type": "code",
   "execution_count": 36,
   "id": "01429baa-03a5-4081-a31a-81838a5eec0f",
   "metadata": {},
   "outputs": [
    {
     "name": "stdout",
     "output_type": "stream",
     "text": [
      "2\n"
     ]
    }
   ],
   "source": [
    "#b) Find memory size and append them in a list, use this list to find data type having least memory size\n",
    "import sys\n",
    "memory_size = []\n",
    "memory_size.append(sys.getsizeof(var_1))\n",
    "memory_size.append(sys.getsizeof(var_2))\n",
    "memory_size.append(sys.getsizeof(var_3))\n",
    "memory_size.append(sys.getsizeof(var_4))\n",
    "least_memory_type_index = memory_size.index(min(memory_size))\n",
    "print(least_memory_type_index)\n"
   ]
  },
  {
   "cell_type": "code",
   "execution_count": 40,
   "id": "0a83bd35-52f1-48c2-a64f-bfa1c75f4b7b",
   "metadata": {},
   "outputs": [
    {
     "name": "stdout",
     "output_type": "stream",
     "text": [
      "Memory sizes: [28, 28, 24, 46]\n",
      "Data types: [<class 'int'>, <class 'int'>, <class 'float'>, <class 'str'>]\n",
      "The data type having least memory size is: float\n"
     ]
    }
   ],
   "source": [
    "#c) Print final name of data type which has lowest memory \n",
    "data_type = [type(var_1), type(var_2), type(var_3), type(var_4)]\n",
    "least_memory_type = data_type[least_memory_type_index]\n",
    "print(f\"Memory sizes: {memory_size}\")\n",
    "print(f\"Data types: {data_type}\")\n",
    "print(f\"The data type having least memory size is: {least_memory_type.__name__}\")\n"
   ]
  },
  {
   "cell_type": "markdown",
   "id": "348887b9-daea-4b36-a3bc-c95fd6063886",
   "metadata": {},
   "source": [
    "## Q4. Write a Python program that asks the user to enter an email address. The program should check if the emailcontains the characters @ and&quot;.&quot; (ignoring case). If either character is present, print &quot;Email format is valid.&quot;Otherwise, print &quot;Invalid email format.&quot;"
   ]
  },
  {
   "cell_type": "code",
   "execution_count": 50,
   "id": "7a501920-c7c9-4e84-aae3-5fc4591febc8",
   "metadata": {},
   "outputs": [
    {
     "name": "stdin",
     "output_type": "stream",
     "text": [
      "Enter your email address:  sapna@gmail.com\n"
     ]
    },
    {
     "name": "stdout",
     "output_type": "stream",
     "text": [
      "sapna@gmail.com email address is vaild\n"
     ]
    }
   ],
   "source": [
    "email = input(\"Enter your email address: \")\n",
    "if ('@' in email) and ('.'in email):\n",
    "    print(email, \"email address is vaild\")\n",
    "else:\n",
    "    print(email, \"email address is not vaild\") "
   ]
  },
  {
   "cell_type": "markdown",
   "id": "04abf630-269b-4bc4-929b-08d7256c6605",
   "metadata": {},
   "source": [
    "## Q5. Write a python program to know data type of each element stored in a tuple, append the data types in a list.Show final output in a list as data types of tuple elements x = (11,22.333,&#39;apple&#39;,[1,2,3],(&#39;a&#39;,&#39;b&#39;))"
   ]
  },
  {
   "cell_type": "code",
   "execution_count": 60,
   "id": "dfab3d01-909f-4ad6-87f2-a5f8566b4df4",
   "metadata": {},
   "outputs": [
    {
     "name": "stdout",
     "output_type": "stream",
     "text": [
      "datatypes of elements stored in x are : [<class 'int'>, <class 'float'>, <class 'str'>, <class 'list'>, <class 'tuple'>]\n"
     ]
    }
   ],
   "source": [
    "x = (11,22.333,'apple', [1,2,3], ('a','b','c'))\n",
    "data_type_x = []\n",
    "data_type_x.append(type(x[0]))\n",
    "data_type_x.append(type(x[1]))\n",
    "data_type_x.append(type(x[2]))\n",
    "data_type_x.append(type(x[3]))\n",
    "data_type_x.append(type(x[4]))\n",
    "print(\"datatypes of elements stored in x are :\", data_type_x)\n",
    "\n"
   ]
  },
  {
   "cell_type": "markdown",
   "id": "df026ae6-a7b7-4d72-a83f-24b2d4762f7e",
   "metadata": {},
   "source": [
    "## Q6. Write a Python program that:\n",
    "## Checks if a given username exists in a list of active users.\n",
    "## Verifies if the user is the admin using identity operators.\n",
    "## Hints:\n",
    "## Use a list of tuples where each tuple contains a username and role\n",
    "## [(&quot;alice&quot;, &quot;admin&quot;),\n",
    "## (&quot;bob&quot;, &quot;user&quot;),\n",
    "## (&quot;charlie&quot;, &quot;moderator&quot;)]\n",
    "## Use the in operator to check if the username exists in the list.\n",
    "## Use the is operator to check if the user is the admin (admin is a specific reference, e.g., (&quot;alice&quot;, &quot;admin&quot;))."
   ]
  },
  {
   "cell_type": "code",
   "execution_count": 66,
   "id": "ee96de01-8625-4193-88b6-b0887e4d6a7b",
   "metadata": {},
   "outputs": [
    {
     "name": "stdin",
     "output_type": "stream",
     "text": [
      "Enter the username to check:  alice\n"
     ]
    },
    {
     "name": "stdout",
     "output_type": "stream",
     "text": [
      "User 'alice' exists and is an admin.\n"
     ]
    }
   ],
   "source": [
    "username_to_check = input(\"Enter the username to check: \")\n",
    "users = [\n",
    "    (\"alice\", \"admin\"),\n",
    "    (\"bob\", \"user\"),\n",
    "    (\"charlie\", \"moderator\")\n",
    "]\n",
    "user_exists = any(user[0] == username_to_check for user in users)\n",
    "if user_exists:\n",
    "    user_tuple = next(user for user in users if user[0] == username_to_check)\n",
    "    if user_tuple[1] == \"admin\":\n",
    "        print(f\"User '{username_to_check}' exists and is an admin.\")\n",
    "    else:\n",
    "        print(f\"User '{username_to_check}' exists but is not an admin.\")\n",
    "else:\n",
    "    print(f\"User '{username_to_check}' does not exist.\")"
   ]
  },
  {
   "cell_type": "markdown",
   "id": "23a832d2-ca07-43cf-b6e0-b761a8c1be03",
   "metadata": {},
   "source": [
    "## Q7.person1 has same family as of person2, write a program to print relation between person1 and person2, if their data is [&#39;fathername&#39;,&#39;mother name&#39;,&#39;district&#39;,&#39;family number&#39;] same (Print relation &#39;Siblings&#39;) also check person1data with person3 which is cousin of person1 (Print relation &#39;Cousin&#39;) Hint: Use identity operator"
   ]
  },
  {
   "cell_type": "code",
   "execution_count": null,
   "id": "24e7fbee-a11e-42d1-9bfb-100aa013e1d9",
   "metadata": {},
   "outputs": [],
   "source": [
    "person1 = ['John', 'Jane', 'NewYork', '1234']\n",
    "person2 = ['John', 'Jane', 'NewYork', '1234'] \n",
    "person3 = ['Michael', 'Sarah', 'Boston', '5678']  \n",
    "if person1 is person2:\n",
    "    print(\"Relation: Siblings\")\n",
    "elif person1 is person3:\n",
    "    print(\"Relation: Cousin\")\n",
    "else:\n",
    "    print(\"No direct relation based on provided data.\")\n"
   ]
  },
  {
   "cell_type": "markdown",
   "id": "b15d8d95-c93b-4c4a-94ba-414e116f529c",
   "metadata": {},
   "source": [
    "## Q8. Write a Python program to store and display a book&#39;s title, author, year of publication, and price using a tuple.Instructions:Create a tuple to store the book details.Ask the user for the book&#39;s title, author, year, and price.Display the stored book information."
   ]
  },
  {
   "cell_type": "code",
   "execution_count": 114,
   "id": "05d6d67f-d75c-4197-b924-aa43b5fe0136",
   "metadata": {},
   "outputs": [
    {
     "name": "stdin",
     "output_type": "stream",
     "text": [
      "Enter the book's title:  introduction to python \n",
      "Enter the author's name:  jhon\n",
      "Enter the year of publication:  2014\n",
      "Enter the price of the book:  2355\n"
     ]
    },
    {
     "name": "stdout",
     "output_type": "stream",
     "text": [
      "\n",
      "Book Details:\n",
      "Title: introduction to python \n",
      "Author: jhon\n",
      "Year of Publication: 2014\n",
      "Price: $2355.00\n"
     ]
    }
   ],
   "source": [
    "title = input(\"Enter the book's title: \")\n",
    "author = input(\"Enter the author's name: \")\n",
    "year = int(input(\"Enter the year of publication: \"))\n",
    "price = float(input(\"Enter the price of the book: \"))\n",
    "book_details = (title, author, year, price)\n",
    "\n",
    "print(\"\\nBook Details:\")\n",
    "print(f\"Title: {book_details[0]}\")\n",
    "print(f\"Author: {book_details[1]}\")\n",
    "print(f\"Year of Publication: {book_details[2]}\")\n",
    "print(f\"Price: ${book_details[3]:.2f}\")\n"
   ]
  },
  {
   "cell_type": "markdown",
   "id": "6310b9e2-611e-45e7-84c1-4dc2b052cb9c",
   "metadata": {},
   "source": [
    "## Q9. Write a program to check if a user’s chosen subject is available in the list of offered subjects.Instructions:Given a list of subjects, ask the user to input a subject.Display whether the subject is available or not."
   ]
  },
  {
   "cell_type": "code",
   "execution_count": 119,
   "id": "add4b548-d33c-4a3d-bccb-95786d79deab",
   "metadata": {},
   "outputs": [
    {
     "name": "stdin",
     "output_type": "stream",
     "text": [
      "enter the subject you are looking for:  Machine learning\n"
     ]
    },
    {
     "name": "stdout",
     "output_type": "stream",
     "text": [
      "The subject 'Machine learning' is available.\n"
     ]
    }
   ],
   "source": [
    "offered_subjects = ['Database', 'human comouter interaction', 'Machine learning',  'introductin computer science']\n",
    "chosen_subject = input(\"enter the subject you are looking for: \")\n",
    "if chosen_subject in offered_subjects:\n",
    "    print(f\"The subject '{chosen_subject}' is available.\")\n",
    "else:\n",
    "    print(f\"The subject '{chosen_subject}' is not available.\")\n"
   ]
  },
  {
   "cell_type": "markdown",
   "id": "33d9bace-aa76-4e40-893c-da964d5cc455",
   "metadata": {},
   "source": [
    "## Q10. Write a Python program that performs the following tasks using tuple methodsCreate a tuple with multiple integer values, including duplicates.Prompt the user to input a number and find the index of its first occurrence in the tuple.Ask the user for another number and count how many times it appears in the tuple.Display appropriate messages based on the results"
   ]
  },
  {
   "cell_type": "code",
   "execution_count": 122,
   "id": "0da20009-126a-4fd6-a872-7d657be07028",
   "metadata": {},
   "outputs": [
    {
     "name": "stdin",
     "output_type": "stream",
     "text": [
      "enter a number to find its first occurrence:  5\n"
     ]
    },
    {
     "name": "stdout",
     "output_type": "stream",
     "text": [
      "The number 5 first occurs at index 0.\n"
     ]
    },
    {
     "name": "stdin",
     "output_type": "stream",
     "text": [
      "Enter another number to count its occurrences:  6\n"
     ]
    },
    {
     "name": "stdout",
     "output_type": "stream",
     "text": [
      "The number 6 does not appear in the tuple.\n"
     ]
    }
   ],
   "source": [
    "numbers = (5, 8, 12, 8, 15, 8, 8, 23,45,56,78, 12, 5)\n",
    "user_number_1 = int(input(\"enter a number to find its first occurrence: \"))\n",
    "if user_number_1 in numbers:\n",
    "    index = numbers.index(user_number_1)\n",
    "    print(f\"The number {user_number_1} first occurs at index {index}.\")\n",
    "else:\n",
    "    print(f\"The number {user_number_1} is not in the tuple.\")\n",
    "user_number_2 = int(input(\"Enter another number to count its occurrences: \"))\n",
    "count = numbers.count(user_number_2)\n",
    "if count > 0:\n",
    "    print(f\"The number {user_number_2} appears {count} times in the tuple.\")\n",
    "else:\n",
    "    print(f\"The number {user_number_2} does not appear in the tuple.\")\n"
   ]
  },
  {
   "cell_type": "markdown",
   "id": "8c6c1914-fae8-4a9e-967a-8fb0251146ca",
   "metadata": {},
   "source": [
    "## Question for Hard working learners (Not Mandatory)Write a Python program that asks the user to enter the current temperature in Celsius and checks whether it&#39;sfreezing, normal, or hot based on predefined temperature values.&quot;Assignment Requirements:Input: The user will be asked to enter the current temperature in Celsius.Predefined values:Freezing: -5Normal: 25Hot: 40\n"
   ]
  },
  {
   "cell_type": "code",
   "execution_count": 125,
   "id": "7e39b252-d92c-4e19-b4d7-890f4bffe45c",
   "metadata": {},
   "outputs": [
    {
     "name": "stdin",
     "output_type": "stream",
     "text": [
      "Enter the current temperature in Celsius:  45.9\n"
     ]
    },
    {
     "name": "stdout",
     "output_type": "stream",
     "text": [
      "its extremely hot\n"
     ]
    }
   ],
   "source": [
    "freezing_temp = -5\n",
    "normal_temp = 25\n",
    "hot_temp = 40\n",
    "temperature = float(input(\"Enter the current temperature in Celsius: \"))\n",
    "if temperature <= freezing_temp:\n",
    "    print(\"its freezing\")\n",
    "elif temperature > freezing_temp and temperature <= normal_temp:\n",
    "    print(\"The temperature is normal.\")\n",
    "elif temperature > normal_temp and temperature <= hot_temp:\n",
    "    print(\"its hot\")\n",
    "else:\n",
    "    print(\"its extremely hot\")\n"
   ]
  }
 ],
 "metadata": {
  "kernelspec": {
   "display_name": "Python [conda env:base] *",
   "language": "python",
   "name": "conda-base-py"
  },
  "language_info": {
   "codemirror_mode": {
    "name": "ipython",
    "version": 3
   },
   "file_extension": ".py",
   "mimetype": "text/x-python",
   "name": "python",
   "nbconvert_exporter": "python",
   "pygments_lexer": "ipython3",
   "version": "3.12.7"
  }
 },
 "nbformat": 4,
 "nbformat_minor": 5
}
