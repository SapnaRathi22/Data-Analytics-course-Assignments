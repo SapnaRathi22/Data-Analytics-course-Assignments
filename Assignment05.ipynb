{
 "cells": [
  {
   "cell_type": "markdown",
   "id": "a2f7f959-d222-4475-affe-98cf5d0820c3",
   "metadata": {},
   "source": [
    "### 1. Write a Python function called add_numbers that takes two numbers as arguments and returns their sum. Then, test the function by calling it with two numbers of your choice.\n"
   ]
  },
  {
   "cell_type": "code",
   "execution_count": 4,
   "id": "cd57f0eb-c2a1-410c-9b73-34db5f75a07a",
   "metadata": {},
   "outputs": [
    {
     "name": "stdout",
     "output_type": "stream",
     "text": [
      "The sum of x and y: 11\n"
     ]
    }
   ],
   "source": [
    "def add_numbers(x ,y):\n",
    "    z=x+y\n",
    "    print(\"The sum of x and y:\", z)\n",
    "\n",
    "add_numbers(5, 6)"
   ]
  },
  {
   "cell_type": "markdown",
   "id": "124633af-9cfb-4fd2-95a3-01d80708802b",
   "metadata": {},
   "source": [
    "### 2. Write a Python function count_vowels that accepts a string and returns the number of vowels (a, e, i, o, u) in that string.,\n",
    "### - Example: 'Orange',\n",
    "### - Output: 3 vowels"
   ]
  },
  {
   "cell_type": "code",
   "execution_count": 10,
   "id": "c884502d-efd4-437a-8726-97c867675561",
   "metadata": {},
   "outputs": [
    {
     "name": "stdout",
     "output_type": "stream",
     "text": [
      "5 vowels in string : sapnakumari\n"
     ]
    }
   ],
   "source": [
    "def count_vowels(x):\n",
    "    count = 0\n",
    "    for vowels in x:\n",
    "        if (vowels == 'a') or (vowels == 'e') or (vowels == 'i') or (vowels == 'o') or (vowels == 'u'):\n",
    "            count = count+1\n",
    "    print(count, \"vowels in string :\", x)\n",
    "count_vowels(\"sapnakumari\")"
   ]
  },
  {
   "cell_type": "markdown",
   "id": "c94bc9cc-20f8-481f-b12f-2b1b76551ca8",
   "metadata": {},
   "source": [
    "### 3. Create a Python function called currency_converter() that takes two arguments:,\n",
    "### - amount: The amount of money to be converted (in USD).\n",
    "### - exchange_rate (default is 280): The conversion rate from USD to another currency (e.g., PKR). You can assume the default rate is 1 USD = 280 PKR.\n",
    "### - The function should return a message showing how much the given amount is worth in the target currency (PKR).\n",
    "   "
   ]
  },
  {
   "cell_type": "code",
   "execution_count": 11,
   "id": "a19a2d9c-cdac-4830-b685-d87fe1d32300",
   "metadata": {},
   "outputs": [
    {
     "data": {
      "text/plain": [
       "14000"
      ]
     },
     "execution_count": 11,
     "metadata": {},
     "output_type": "execute_result"
    }
   ],
   "source": [
    "def currency_converter(amount , exchange_rate=280):\n",
    "    return amount*exchange_rate\n",
    "\n",
    "currency_converter(50)\n",
    "    "
   ]
  },
  {
   "cell_type": "markdown",
   "id": "619f6f38-6cb9-4070-b4d9-532d4a420fef",
   "metadata": {},
   "source": [
    "### 4. Write a Python function display_student_info that accepts the following details about a student:\n",
    "### - name (Keyword argument): The name of the student.\n",
    "### - age (Keyword argument): The age of the student.\n",
    "### - grade (Keyword argument): The grade the student is in.\n",
    "### - school (Keyword argument): The name of the school the student attends.\n",
    "   "
   ]
  },
  {
   "cell_type": "code",
   "execution_count": 16,
   "id": "403e5f14-27f2-4ee4-9a81-3dca565df30d",
   "metadata": {},
   "outputs": [
    {
     "data": {
      "text/plain": [
       "('Sapna', 26, '+A', 'Mehran UET')"
      ]
     },
     "execution_count": 16,
     "metadata": {},
     "output_type": "execute_result"
    }
   ],
   "source": [
    "def display_student_info(age, name , grade , School):\n",
    "    return name, age, grade, School\n",
    "\n",
    "display_student_info(name=\"Sapna\" , age = 26 , grade = \"+A\", School =\"Mehran UET\")"
   ]
  },
  {
   "cell_type": "markdown",
   "id": "c9fcc75a-445e-4d25-ae29-156739692a45",
   "metadata": {},
   "source": [
    "### 5. Write a Python function calculate_price that accepts two positional arguments:\n",
    "### - price: The price of a single item.\n",
    "### - quantity: The number of items bought.\n",
    "### - The function should return the total price by multiplying price and quantity.\n",
    "   "
   ]
  },
  {
   "cell_type": "code",
   "execution_count": 15,
   "id": "df82505e-0325-4544-9c9a-666d6787beb5",
   "metadata": {},
   "outputs": [
    {
     "name": "stdout",
     "output_type": "stream",
     "text": [
      "Total price for a given quantity is  1250\n"
     ]
    }
   ],
   "source": [
    "def calculate_price(price, quantity):\n",
    "    print(\"Total price for a given quantity is \", price*quantity)\n",
    "\n",
    "calculate_price(250, 5)  #1kg = 250"
   ]
  },
  {
   "cell_type": "markdown",
   "id": "0656d6d7-448e-4a29-a4fd-30f94cda13dc",
   "metadata": {},
   "source": [
    "#### 6. Write a Python function display_prices that takes a product name and an arbitrary number of keyword arguments representing product prices. The function should display each product and its price.\n",
    "#### - Product: Laptop\n",
    "#### - Amazon: $800\n",
    "#### - eBay: $750\n",
    "#### - Walmart: $780\n",
    "   "
   ]
  },
  {
   "cell_type": "code",
   "execution_count": 39,
   "id": "46b7a36c-af2e-493b-8cb8-517b552cd574",
   "metadata": {},
   "outputs": [
    {
     "data": {
      "text/plain": [
       "('Laptop', {'Amazon': '800$', 'eBay': 750, 'Walmart': '$780'})"
      ]
     },
     "execution_count": 39,
     "metadata": {},
     "output_type": "execute_result"
    }
   ],
   "source": [
    "def display_prices(name , **kwargs):\n",
    "    return name , kwargs\n",
    "display_prices(\"Laptop\" , Amazon= \"800$\", eBay=750,  Walmart= \"$780\")"
   ]
  },
  {
   "cell_type": "markdown",
   "id": "9f52ed95-9d03-4bc8-a52a-72fbc9cd0023",
   "metadata": {},
   "source": [
    "#### 7. Write a Python function find_max that takes any number of numerical arguments and returns the maximum number.\n",
    "  "
   ]
  },
  {
   "cell_type": "code",
   "execution_count": 40,
   "id": "38f5ae5a-8896-492c-8011-c683e0db7477",
   "metadata": {},
   "outputs": [
    {
     "name": "stdout",
     "output_type": "stream",
     "text": [
      "99\n"
     ]
    }
   ],
   "source": [
    "def find_max(*args):\n",
    "    if args: \n",
    "        return max(args)\n",
    "    else:\n",
    "        return None \n",
    "result = find_max(10, 88, 30, 53, 99)\n",
    "print(result)\n"
   ]
  },
  {
   "cell_type": "markdown",
   "id": "0b854235-0403-42da-b9cc-5acb81f41621",
   "metadata": {},
   "source": [
    "#### 8. Write a Python function display_info that takes:\n",
    "#### - Positional arguments for the name and age of a person.\n",
    "#### - Keyword arguments for other personal details like address, phone number, and email.\n",
    "#### Example Output:\n",
    "#### - Name: Alice\n",
    "#### - Age: 30\n",
    "#### - Other Details:\n",
    "#### - address: 123 Main St\n",
    "#### - phone: 123-456-7890\n",
    "#### - email: alice@example.com\n",
    "   "
   ]
  },
  {
   "cell_type": "code",
   "execution_count": 20,
   "id": "f4bdba7e-995e-45d1-8ae6-8310330b62de",
   "metadata": {},
   "outputs": [
    {
     "data": {
      "text/plain": [
       "('Sapna', 26, '123 Main St', '123-456-7890', 'alice@example.com')"
      ]
     },
     "execution_count": 20,
     "metadata": {},
     "output_type": "execute_result"
    }
   ],
   "source": [
    "def display_info(name , age, address, phone, email):\n",
    "    return name, age , address, phone, email\n",
    "\n",
    "display_info('Sapna', 26, address=  \"123 Main St\" , phone= \"123-456-7890\",  email= \"alice@example.com\")"
   ]
  },
  {
   "cell_type": "markdown",
   "id": "bb10a897-8c1a-41f4-b7cd-829e8df9a395",
   "metadata": {},
   "source": [
    "#### 9. Write a Python function calculate_rectangle that accepts the length and width of a rectangle as arguments. Inside this function, create two nested functions:\n",
    "#### - calculate_area: This function should calculate the area of the rectangle.\n",
    "#### - calculate_perimeter: This function should calculate the perimeter of the rectangle.\n",
    "#### - The main function should return both the area and the perimeter of the rectangle.\n",
    "   "
   ]
  },
  {
   "cell_type": "code",
   "execution_count": 22,
   "id": "9f90e6f2-9f8a-4eb2-9c79-ea00f698fc93",
   "metadata": {},
   "outputs": [
    {
     "name": "stdout",
     "output_type": "stream",
     "text": [
      "The area of rectangle :  624\n",
      "The perimeter of rectangle :  100\n"
     ]
    }
   ],
   "source": [
    "def calculate_rectangle(length , width):\n",
    "    def calculate_area():\n",
    "        print(\"The area of rectangle : \", width*length)\n",
    "    def calculate_perimeter():\n",
    "        print(\"The perimeter of rectangle : \", 2*(width+length))\n",
    "    calculate_area()\n",
    "    calculate_perimeter()\n",
    "calculate_rectangle(26,24)"
   ]
  },
  {
   "cell_type": "markdown",
   "id": "dbfcba91-4428-484c-ad0d-93030e18660d",
   "metadata": {},
   "source": [
    "#### Q 10\n",
    "#### products = [\n",
    "####   {\"name\": \"Laptop\", \"price\": 1200, \"in_stock\": True, \"discount\": 0.1},\n",
    "####   {\"name\": \"Smartphone\", \"price\": 800, \"in_stock\": False, \"discount\": 0.05},\n",
    "####   {\"name\": \"Headphones\", \"price\": 150, \"in_stock\": True, \"discount\": 0.2},\n",
    "####   {\"name\": \"Smartwatch\", \"price\": 300, \"in_stock\": True, \"discount\": 0},\n",
    "####   {\"name\": \"Keyboard\", \"price\": 100, \"in_stock\": True, \"discount\": 0.15},\n",
    "####  ]\n",
    "#### - Get names of in-stock products:\n",
    "#### *Use list comprehension to generate a list of names for the products that are in stock.,\n",
    "#### - Calculate final prices for in-stock products after discount:,\n",
    "#### *For products that have a discount, calculate the final price by applying the discount.\n",
    "#### *For products with no discount, keep the original price.,\n",
    "#### - Generate a list of tuples with the product name and its final price.,\n",
    "#### Example Output:,\n",
    "#### - In-stock product names: ['Laptop', 'Headphones', 'Smartwatch', 'Keyboard'],\n",
    "#### - Discounted prices: [('Laptop', 1080.0), ('Headphones', 120.0), ('Smartwatch', 300), ('Keyboard', 85.0)]\n",
    "   "
   ]
  },
  {
   "cell_type": "code",
   "execution_count": 37,
   "id": "29e798a6-bd89-4038-868b-481e95f232a1",
   "metadata": {},
   "outputs": [
    {
     "name": "stdout",
     "output_type": "stream",
     "text": [
      "['Laptop', 'Headphones', 'Smartwatch', 'Keyboard']\n",
      "[('Laptop', 1080.0), ('Headphones', 120.0), ('Smartwatch', 300), ('Keyboard', 85.0)]\n"
     ]
    }
   ],
   "source": [
    "products = [\n",
    "{\"name\": \"Laptop\", \"price\": 1200, \"in_stock\": True, \"discount\": 0.1},\n",
    "{\"name\": \"Smartphone\", \"price\": 800, \"in_stock\": False, \"discount\": 0.05},\n",
    "{\"name\": \"Headphones\", \"price\": 150, \"in_stock\": True, \"discount\": 0.2},\n",
    "{\"name\": \"Smartwatch\", \"price\": 300, \"in_stock\": True, \"discount\": 0},\n",
    "{\"name\": \"Keyboard\", \"price\": 100, \"in_stock\": True, \"discount\": 0.15},\n",
    "]\n",
    "# Get names of in-stock products:\n",
    "in_stock = [product['name'] for product in products if product['in_stock'] == True]\n",
    "print(in_stock)\n",
    "\n",
    "# Generate a list of tuples with the product name and its final price.\n",
    "final_price = [\n",
    "    (product['name'], product['price'] * (1 - product['discount']) if product['discount'] > 0 else product['price'])\n",
    "    for product in products if product['in_stock']\n",
    "]\n",
    "\n",
    "print(final_price)"
   ]
  },
  {
   "cell_type": "code",
   "execution_count": null,
   "id": "bde7e66d-afe8-463f-a8ef-67a7f9990c7c",
   "metadata": {},
   "outputs": [],
   "source": []
  }
 ],
 "metadata": {
  "kernelspec": {
   "display_name": "Python 3 (ipykernel)",
   "language": "python",
   "name": "python3"
  },
  "language_info": {
   "codemirror_mode": {
    "name": "ipython",
    "version": 3
   },
   "file_extension": ".py",
   "mimetype": "text/x-python",
   "name": "python",
   "nbconvert_exporter": "python",
   "pygments_lexer": "ipython3",
   "version": "3.12.7"
  }
 },
 "nbformat": 4,
 "nbformat_minor": 5
}
