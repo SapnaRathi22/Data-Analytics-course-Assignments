{
 "cells": [
  {
   "cell_type": "code",
   "execution_count": 32,
   "id": "ea48bae5-904e-4948-a3ae-286797ec17ed",
   "metadata": {},
   "outputs": [],
   "source": [
    "salaries = ['20k', '40k', '50k', '60k','35k', '89k','40k']"
   ]
  },
  {
   "cell_type": "code",
   "execution_count": 33,
   "id": "45d16109-e446-46b8-93cd-33151af221bd",
   "metadata": {},
   "outputs": [
    {
     "name": "stdout",
     "output_type": "stream",
     "text": [
      "['20k', '40k', '50k', '60k', '35k', '89k', '40k']\n"
     ]
    }
   ],
   "source": [
    "print(salaries)"
   ]
  },
  {
   "cell_type": "markdown",
   "id": "69c75745-42d0-4ae7-bc1b-7238203ed1b4",
   "metadata": {},
   "source": [
    "## 1. what is length of the salries list"
   ]
  },
  {
   "cell_type": "code",
   "execution_count": 34,
   "id": "a817712c-42c5-4dbc-8d1f-eb277a7535e3",
   "metadata": {},
   "outputs": [
    {
     "name": "stdout",
     "output_type": "stream",
     "text": [
      "7\n"
     ]
    }
   ],
   "source": [
    "print(len(salaries))"
   ]
  },
  {
   "cell_type": "markdown",
   "id": "8542c1dd-ffc8-4418-8c64-64cfe2497ee4",
   "metadata": {},
   "source": [
    "## 2. Retrieve the third salary in the list by using index."
   ]
  },
  {
   "cell_type": "code",
   "execution_count": 35,
   "id": "9f8b1f3c-48ba-4556-b8db-2e61f0a33a18",
   "metadata": {},
   "outputs": [
    {
     "name": "stdout",
     "output_type": "stream",
     "text": [
      "50k\n"
     ]
    }
   ],
   "source": [
    "print(salaries[2])"
   ]
  },
  {
   "cell_type": "markdown",
   "id": "16f5aa5b-585a-4db3-9716-d2c95c79a0c7",
   "metadata": {},
   "source": [
    "## 3. Extract the last salary from the list by using the negetive index"
   ]
  },
  {
   "cell_type": "code",
   "execution_count": 36,
   "id": "37715acc-f97a-4ec9-8068-6cc85e278813",
   "metadata": {},
   "outputs": [
    {
     "name": "stdout",
     "output_type": "stream",
     "text": [
      "40k\n"
     ]
    }
   ],
   "source": [
    "print(salaries[-1])"
   ]
  },
  {
   "cell_type": "markdown",
   "id": "1f36d0d3-363c-4721-a34f-594a2b7290a1",
   "metadata": {},
   "source": [
    "## 4.Slice the salaries list to  get the middle three salaries."
   ]
  },
  {
   "cell_type": "code",
   "execution_count": 37,
   "id": "4ecf1182-9a18-469a-abf3-15c25d7afb92",
   "metadata": {},
   "outputs": [
    {
     "name": "stdout",
     "output_type": "stream",
     "text": [
      "['50k', '60k', '35k']\n"
     ]
    }
   ],
   "source": [
    "print(salaries[2:5])"
   ]
  },
  {
   "cell_type": "markdown",
   "id": "b4b44b5f-797d-4caf-ab3d-2cc849f7d809",
   "metadata": {},
   "source": [
    "## 5.Add a new salary to the list , '100k' by using append() method."
   ]
  },
  {
   "cell_type": "code",
   "execution_count": 38,
   "id": "d36d2163-4b2f-4212-a055-a726288f74b7",
   "metadata": {},
   "outputs": [],
   "source": [
    "salaries.append('100k')"
   ]
  },
  {
   "cell_type": "code",
   "execution_count": 39,
   "id": "114834b2-05e6-4aaf-97d5-ed2a6a69942f",
   "metadata": {},
   "outputs": [
    {
     "name": "stdout",
     "output_type": "stream",
     "text": [
      "['20k', '40k', '50k', '60k', '35k', '89k', '40k', '100k']\n"
     ]
    }
   ],
   "source": [
    "print(salaries)"
   ]
  },
  {
   "cell_type": "markdown",
   "id": "1144703a-26ae-4e62-93f7-fdd37821e72c",
   "metadata": {},
   "source": [
    "## 6. Add a new salary to the list '120k' without method."
   ]
  },
  {
   "cell_type": "code",
   "execution_count": 40,
   "id": "b7c39536-e873-40eb-88c6-89f741b730f1",
   "metadata": {},
   "outputs": [
    {
     "name": "stdout",
     "output_type": "stream",
     "text": [
      "['20k', '40k', '50k', '60k', '35k', '89k', '40k', '100k', '120K']\n"
     ]
    }
   ],
   "source": [
    "print(salaries+['120K'])"
   ]
  },
  {
   "cell_type": "markdown",
   "id": "da23af59-2637-4a9a-9931-241e9106d8f8",
   "metadata": {},
   "source": [
    "## 7.Replace the third salary in the list with '55k'  and print the updated list."
   ]
  },
  {
   "cell_type": "code",
   "execution_count": 41,
   "id": "a9def791-28de-4493-86cf-c53baaf11d8f",
   "metadata": {},
   "outputs": [],
   "source": [
    "salaries[2] = '55k'"
   ]
  },
  {
   "cell_type": "code",
   "execution_count": 42,
   "id": "65e4e9e1-9d63-465c-a4e4-37c35360ba49",
   "metadata": {},
   "outputs": [
    {
     "name": "stdout",
     "output_type": "stream",
     "text": [
      "['20k', '40k', '55k', '60k', '35k', '89k', '40k', '100k']\n"
     ]
    }
   ],
   "source": [
    "print(salaries)"
   ]
  },
  {
   "cell_type": "markdown",
   "id": "afccb554-5de9-444c-a3b8-51eaf69d4036",
   "metadata": {},
   "source": [
    "## 8.count how many times '40k' appears in the list."
   ]
  },
  {
   "cell_type": "code",
   "execution_count": 43,
   "id": "cb0bc766-8464-4dca-8512-f08c81e4dde5",
   "metadata": {},
   "outputs": [
    {
     "name": "stdout",
     "output_type": "stream",
     "text": [
      "2\n"
     ]
    }
   ],
   "source": [
    "print(salaries.count('40k'))"
   ]
  },
  {
   "cell_type": "markdown",
   "id": "191a549b-4937-4816-aeec-a0480f395409",
   "metadata": {},
   "source": [
    "## 9.Insert a new salary at the second position."
   ]
  },
  {
   "cell_type": "code",
   "execution_count": 44,
   "id": "5bd15916-21a4-401a-817c-cd52df122cfb",
   "metadata": {},
   "outputs": [],
   "source": [
    "salaries.insert(1,'60k')"
   ]
  },
  {
   "cell_type": "code",
   "execution_count": 45,
   "id": "ee392e6b-948e-48b8-ba66-188888cb1b26",
   "metadata": {},
   "outputs": [
    {
     "name": "stdout",
     "output_type": "stream",
     "text": [
      "['20k', '60k', '40k', '55k', '60k', '35k', '89k', '40k', '100k']\n"
     ]
    }
   ],
   "source": [
    "print(salaries)"
   ]
  },
  {
   "cell_type": "markdown",
   "id": "9ab341eb-1c92-4fa6-94c8-52cb90e83ced",
   "metadata": {},
   "source": [
    "## 10.Reverse the order of the salaries list with method."
   ]
  },
  {
   "cell_type": "code",
   "execution_count": 55,
   "id": "4875903a-59cd-4428-a915-ac7fc2bb1b15",
   "metadata": {},
   "outputs": [
    {
     "name": "stdout",
     "output_type": "stream",
     "text": [
      "['100k', '40k', '89k', '35k', '60k', '55k', '40k', '60k', '20k']\n"
     ]
    }
   ],
   "source": [
    "salaries.reverse()\n",
    "print(salaries)"
   ]
  },
  {
   "cell_type": "markdown",
   "id": "93652af9-3dba-47ba-b59e-2060fda708d3",
   "metadata": {},
   "source": [
    "## 11. Reverse the order of the salaries list without method."
   ]
  },
  {
   "cell_type": "code",
   "execution_count": 57,
   "id": "43b75608-d6f5-4af0-8ea4-3a317005e341",
   "metadata": {},
   "outputs": [],
   "source": [
    "rev = salaries[::-1]"
   ]
  },
  {
   "cell_type": "code",
   "execution_count": 58,
   "id": "76d5403b-94c5-4361-9cc5-55de78f8cf29",
   "metadata": {},
   "outputs": [
    {
     "name": "stdout",
     "output_type": "stream",
     "text": [
      "['20k', '60k', '40k', '55k', '60k', '35k', '89k', '40k', '100k']\n"
     ]
    }
   ],
   "source": [
    "print(rev)  # this code is using the list (that is reverse in the above cell.)"
   ]
  },
  {
   "cell_type": "code",
   "execution_count": null,
   "id": "f3d7dfeb-715e-4511-925a-a358c0ebeb72",
   "metadata": {},
   "outputs": [],
   "source": []
  }
 ],
 "metadata": {
  "kernelspec": {
   "display_name": "Python 3 (ipykernel)",
   "language": "python",
   "name": "python3"
  },
  "language_info": {
   "codemirror_mode": {
    "name": "ipython",
    "version": 3
   },
   "file_extension": ".py",
   "mimetype": "text/x-python",
   "name": "python",
   "nbconvert_exporter": "python",
   "pygments_lexer": "ipython3",
   "version": "3.12.7"
  }
 },
 "nbformat": 4,
 "nbformat_minor": 5
}
