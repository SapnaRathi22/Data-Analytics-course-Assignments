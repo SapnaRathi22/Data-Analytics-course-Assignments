{
 "cells": [
  {
   "cell_type": "markdown",
   "id": "969b9f94-963c-46ac-b2ba-fe5ba0d96848",
   "metadata": {},
   "source": [
    "## Question 1: Age Group Classification"
   ]
  },
  {
   "cell_type": "code",
   "execution_count": 2,
   "id": "8552c17f-a93c-4dd2-9d5a-9d039eb89a5e",
   "metadata": {},
   "outputs": [
    {
     "name": "stdin",
     "output_type": "stream",
     "text": [
      "Enter your age:  37\n"
     ]
    },
    {
     "name": "stdout",
     "output_type": "stream",
     "text": [
      "you are a Adult.\n"
     ]
    }
   ],
   "source": [
    "age = int(input(\"Enter your age: \"))\n",
    "if age>=0 and age<=12:\n",
    "    print(\"you are a child.\")\n",
    "elif age>=13 and age<=19:\n",
    "    print(\"you are a Teenager.\")\n",
    "elif age>=20 and age<=64:\n",
    "    print(\"you are a Adult.\")\n",
    "elif age>=65:\n",
    "    print(\"you are a senior.\")\n",
    "else:\n",
    "    print(\"please enter valid age.\")"
   ]
  },
  {
   "cell_type": "markdown",
   "id": "953f257c-8a67-412f-811c-8cf28c086b6b",
   "metadata": {},
   "source": [
    "## Question 2: Checking for Eligibility for Discount"
   ]
  },
  {
   "cell_type": "code",
   "execution_count": 10,
   "id": "f776a084-4306-4fbc-8ca1-9ef184379563",
   "metadata": {},
   "outputs": [
    {
     "name": "stdin",
     "output_type": "stream",
     "text": [
      "Enter your membership:  regular\n",
      "Enter your purchase amount:  1500\n"
     ]
    },
    {
     "name": "stdout",
     "output_type": "stream",
     "text": [
      "Not eligible for discount.\n"
     ]
    }
   ],
   "source": [
    "cus_membership = input(\"Enter your membership: \")\n",
    "pur_amount = int(input(\"Enter your purchase amount: \"))\n",
    "if ( cus_membership==\"premium\") and (pur_amount>= 1000):\n",
    "    print(\"Eligible for discount.\")\n",
    "elif ( cus_membership==\"regular\") and (pur_amount>=2000):\n",
    "    print(\"Eligible for discount.\")\n",
    "else:\n",
    "    print(\"Not eligible for discount.\")"
   ]
  },
  {
   "cell_type": "markdown",
   "id": "8d9c98e0-6be7-48f7-9980-896b4d5597f3",
   "metadata": {},
   "source": [
    "## Question 3: Voting Eligibility Check"
   ]
  },
  {
   "cell_type": "code",
   "execution_count": 13,
   "id": "a392f94e-fa36-409b-93c8-a1514110a1eb",
   "metadata": {},
   "outputs": [
    {
     "name": "stdin",
     "output_type": "stream",
     "text": [
      "Enter your Age:  17\n",
      "Enter your citizenship status(citizen or notcitizen): citizen\n"
     ]
    },
    {
     "name": "stdout",
     "output_type": "stream",
     "text": [
      "Eligible to vote.\n"
     ]
    }
   ],
   "source": [
    "Age = int(input(\"Enter your Age: \"))\n",
    "Citizenship = input(\"Enter your citizenship status(citizen or notcitizen):\")\n",
    "if ( Age>=18) and (Citizenship==\"citizen\"):\n",
    "    print(\"Eligible to vote.\")\n",
    "elif ( Age>=16) and (Citizenship==\"citizen\"):\n",
    "    print(\"Eligible to vote.\")\n",
    "else:\n",
    "    print(\"Not Eligible to vote.\")"
   ]
  },
  {
   "cell_type": "markdown",
   "id": "f977e35d-6adb-4e5b-aee6-9cbce86aa85f",
   "metadata": {},
   "source": [
    "## Question 4: Employee Salary Bonus Eligibility"
   ]
  },
  {
   "cell_type": "code",
   "execution_count": 18,
   "id": "ee7c8b33-d9e8-4eb7-abe7-11758af2d455",
   "metadata": {},
   "outputs": [
    {
     "name": "stdin",
     "output_type": "stream",
     "text": [
      "Enter your performance rating (Excellent or Good or Satisfactory): Good\n",
      "Enter your years of service:  20\n"
     ]
    },
    {
     "name": "stdout",
     "output_type": "stream",
     "text": [
      "You are eligible for bonus.\n"
     ]
    }
   ],
   "source": [
    "emp_performance= input(\"Enter your performance rating (Excellent or Good or Satisfactory):\")\n",
    "emp_yos = int(input(\"Enter your years of service: \"))\n",
    "if (emp_performance==\"Excellent\") and (emp_yos>=5):\n",
    "    print(\"You are eligible for bonus.\")\n",
    "elif (emp_performance==\"Good\") and (emp_yos>=10):\n",
    "    print(\"You are eligible for bonus.\")\n",
    "elif (emp_performance==\"Satisfactory\") and (emp_yos>=15):\n",
    "    print(\"You are eligible for bonus.\")\n",
    "else:\n",
    "    print(\"You are not eligible for bonus.\")"
   ]
  },
  {
   "cell_type": "markdown",
   "id": "1804d051-78d5-4a00-a8b7-634c0261ca80",
   "metadata": {},
   "source": [
    "## Question 5. Write a program that replaces spaces with underscores, counts how many underscores are there, and finds the position of the first underscore. Use text: &quot;I&#39;m learning Python programming&quot;?\n"
   ]
  },
  {
   "cell_type": "code",
   "execution_count": 20,
   "id": "75ad54cb-4dcb-4ff5-9bf4-9a21606bc466",
   "metadata": {},
   "outputs": [
    {
     "name": "stdout",
     "output_type": "stream",
     "text": [
      "I'm_learning_python_programming\n"
     ]
    }
   ],
   "source": [
    "text_st = \"I'm learning python programming\"\n",
    "result = text_st.replace(\" \", \"_\")\n",
    "print(result)"
   ]
  },
  {
   "cell_type": "code",
   "execution_count": 24,
   "id": "5be72172-4316-413a-88c0-fd4ffd7e6436",
   "metadata": {},
   "outputs": [
    {
     "name": "stdout",
     "output_type": "stream",
     "text": [
      "total number of underscores in strings are  3\n"
     ]
    }
   ],
   "source": [
    "count_underscore = result.count(\"_\")\n",
    "print(\"total number of underscores in strings are \" , count_underscore)"
   ]
  },
  {
   "cell_type": "code",
   "execution_count": 25,
   "id": "d8f2cc13-af08-49b9-9a5b-234ee38f5981",
   "metadata": {},
   "outputs": [
    {
     "name": "stdout",
     "output_type": "stream",
     "text": [
      "Position of a first underscore is  3\n"
     ]
    }
   ],
   "source": [
    "position = result.find('_')\n",
    "print(\"Position of a first underscore is \" , position)"
   ]
  },
  {
   "cell_type": "markdown",
   "id": "51016370-ff6c-4d83-884e-2d15e000359f",
   "metadata": {},
   "source": [
    "## Question 6: Write a Python program that:1. Takes a string as input. 2. Prints all characters of the string except the last 3 using slicing.3. Prints every second character of the string using slicing.4. Prints the string in reverse using slicing"
   ]
  },
  {
   "cell_type": "code",
   "execution_count": 2,
   "id": "276f7157-4a96-484d-a443-d222f8bd7023",
   "metadata": {},
   "outputs": [
    {
     "name": "stdin",
     "output_type": "stream",
     "text": [
      "Enter a string:  Sapna Kumari\n"
     ]
    },
    {
     "name": "stdout",
     "output_type": "stream",
     "text": [
      "All characters except the last 3: Sapna Kum\n",
      "Every second character: SpaKmr\n",
      "Reversed string: iramuK anpaS\n"
     ]
    }
   ],
   "source": [
    "\n",
    "input_st = input(\"Enter a string: \")\n",
    "print(\"All characters except the last 3:\", input_st[:-3])\n",
    "print(\"Every second character:\", input_st[::2])\n",
    "print(\"Reversed string:\", input_st[::-1])"
   ]
  },
  {
   "cell_type": "markdown",
   "id": "d472cbff-1f85-467b-97e5-656d0dae613e",
   "metadata": {},
   "source": [
    "## Question 7. Given a sentence, you need to reverse the order of the words in the sentence while preserving their original capitalization and spaces. Use text : &quot;Hello World, We are learning Python&quot;"
   ]
  },
  {
   "cell_type": "code",
   "execution_count": 4,
   "id": "52e011be-3e69-4115-aaab-5adfec344f89",
   "metadata": {},
   "outputs": [
    {
     "name": "stdout",
     "output_type": "stream",
     "text": [
      "Reversed sentence: Python learning are We World, Hello\n"
     ]
    }
   ],
   "source": [
    "\n",
    "text = \"Hello World, We are learning Python\"\n",
    "words = text.split()\n",
    "rev_words = words[::-1]\n",
    "rev_sentence = ' '.join(rev_words)\n",
    "print(\"Reversed sentence:\", rev_sentence)\n"
   ]
  },
  {
   "cell_type": "markdown",
   "id": "0ff7b193-3e45-47a4-8099-e2300c8f7ae4",
   "metadata": {},
   "source": [
    "## Question 8. You have a product code that follows the format &quot;SKU-12345-XYZ&quot;. You need to: Remove the &quot;SKU-&quot; and the &quot;-XYZ&quot; from the product code. Extract and return the number"
   ]
  },
  {
   "cell_type": "code",
   "execution_count": 5,
   "id": "08c2e320-884e-4207-a1d8-7e360d99ac9e",
   "metadata": {},
   "outputs": [
    {
     "name": "stdout",
     "output_type": "stream",
     "text": [
      "Extracted number: 12345\n"
     ]
    }
   ],
   "source": [
    "\n",
    "pro_code = \"SKU-12345-XYZ\"\n",
    "ext_number = pro_code[4:-4]\n",
    "print(\"Extracted number:\", ext_number)\n"
   ]
  },
  {
   "cell_type": "markdown",
   "id": "5a3e0fdc-6fb1-4d34-b9ab-57cf08898c42",
   "metadata": {},
   "source": [
    "## Question 9. Write a Python program to check user password has following: Whether the string contains any uppercase characters. Whether the string contains any lowercase characters. Whether the string contains any spaces. Whether the string contains any special characters (anything other than letters, digits, and spaces)."
   ]
  },
  {
   "cell_type": "code",
   "execution_count": 8,
   "id": "56ec385f-fb67-48b9-85e1-1ff48704b27b",
   "metadata": {},
   "outputs": [
    {
     "name": "stdin",
     "output_type": "stream",
     "text": [
      "Enter your password:  Sapna\n"
     ]
    },
    {
     "name": "stdout",
     "output_type": "stream",
     "text": [
      "Contains uppercase: True\n",
      "Contains lowercase: True\n",
      "Contains spaces: False\n",
      "Contains special characters: False\n"
     ]
    }
   ],
   "source": [
    "password = input(\"Enter your password: \")\n",
    "has_uppercase = any(char.isupper() for char in password)\n",
    "has_lowercase = any(char.islower() for char in password)\n",
    "has_space = ' ' in password\n",
    "has_special_char = any(not (char.isalnum() or char.isspace()) for char in password)\n",
    "\n",
    "\n",
    "print(\"Contains uppercase:\", has_uppercase)\n",
    "print(\"Contains lowercase:\", has_lowercase)\n",
    "print(\"Contains spaces:\", has_space)\n",
    "print(\"Contains special characters:\", has_special_char)\n",
    "\n"
   ]
  },
  {
   "cell_type": "markdown",
   "id": "17d058a4-bdc3-4588-bb1b-bd60ae5631ee",
   "metadata": {},
   "source": [
    "## Question 10: Find the Longest Word Write a Python program that finds the longest word in a given string. Example: Input: &quot;I love programming in Python&quot; Output: &quot;programming&quot;"
   ]
  },
  {
   "cell_type": "code",
   "execution_count": 9,
   "id": "d1347e3e-8656-482e-8ea1-eb3c265c42fd",
   "metadata": {},
   "outputs": [
    {
     "name": "stdin",
     "output_type": "stream",
     "text": [
      "Enter a sentence:  I love programming\n"
     ]
    },
    {
     "name": "stdout",
     "output_type": "stream",
     "text": [
      "The longest word is: programming\n"
     ]
    }
   ],
   "source": [
    "sent = input(\"Enter a sentence: \")\n",
    "words = sent.split()\n",
    "longest_word = max(words, key=len)\n",
    "print(\"The longest word is:\", longest_word)\n"
   ]
  },
  {
   "cell_type": "code",
   "execution_count": null,
   "id": "563d0df7-fc2d-4e85-9d57-83913334b842",
   "metadata": {},
   "outputs": [],
   "source": []
  }
 ],
 "metadata": {
  "kernelspec": {
   "display_name": "Python 3 (ipykernel)",
   "language": "python",
   "name": "python3"
  },
  "language_info": {
   "codemirror_mode": {
    "name": "ipython",
    "version": 3
   },
   "file_extension": ".py",
   "mimetype": "text/x-python",
   "name": "python",
   "nbconvert_exporter": "python",
   "pygments_lexer": "ipython3",
   "version": "3.12.7"
  }
 },
 "nbformat": 4,
 "nbformat_minor": 5
}
